{
  "nbformat": 4,
  "nbformat_minor": 0,
  "metadata": {
    "anaconda-cloud": {},
    "kernelspec": {
      "display_name": "Python 3",
      "language": "python",
      "name": "python3"
    },
    "language_info": {
      "codemirror_mode": {
        "name": "ipython",
        "version": 3
      },
      "file_extension": ".py",
      "mimetype": "text/x-python",
      "name": "python",
      "nbconvert_exporter": "python",
      "pygments_lexer": "ipython3",
      "version": "3.7.4"
    },
    "colab": {
      "name": "2.1-FNN-NumPy.ipynb",
      "provenance": []
    }
  },
  "cells": [
    {
      "cell_type": "markdown",
      "metadata": {
        "id": "LC1dEhy6mbcO",
        "colab_type": "text"
      },
      "source": [
        "# Contents and why we need this lab\n",
        "\n",
        "This lab is about implementing neural networks yourself in NumPy before we start using other frameworks which hide some of the computation from you. It builds on the first lab where you derived the equations for neural network forward and backward propagation and gradient descent parameter updates."
      ]
    },
    {
      "cell_type": "markdown",
      "metadata": {
        "id": "d2Vl4nXkmbcP",
        "colab_type": "text"
      },
      "source": [
        "# External sources of information\n",
        "\n",
        "1. Jupyter notebook. You can find more information about Jupyter notebooks [here](https://jupyter.org/). It will come as part of the [Anaconda](https://www.anaconda.com/) Python installation. \n",
        "2. [NumPy](https://numpy.org/). Part of Anaconda distribution. If you already know how to program most things about Python and NumPy can be found through Google search. \n"
      ]
    },
    {
      "cell_type": "markdown",
      "metadata": {
        "id": "q4slytX7mbcP",
        "colab_type": "text"
      },
      "source": [
        "# This notebook will follow the next steps:\n",
        "\n",
        "1. Data generation\n",
        "2. Initialization of parameters\n",
        "3. Definition of activation functions   \n",
        "4. A short explanation of numpy's einsum function\n",
        "5. Forward pass\n",
        "6. Backward pass (backward pass and finite differences)\n",
        "7. Training loop \n",
        "8. Testing your model\n",
        "9. Further extensions"
      ]
    },
    {
      "cell_type": "markdown",
      "metadata": {
        "id": "ufSk0sBXmbcQ",
        "colab_type": "text"
      },
      "source": [
        "# Create an artificial dataset to play with\n",
        "\n",
        "We create a non-linear 1d regression task. The generator has support various noise levels and it creates train, validation and test sets. You can modify it yourself if you want more or less challenging tasks."
      ]
    },
    {
      "cell_type": "code",
      "metadata": {
        "id": "0OKNYGYtmbcR",
        "colab_type": "code",
        "colab": {}
      },
      "source": [
        "import numpy as np\n",
        "import matplotlib.pyplot as plt\n",
        "\n",
        "np.random.seed(42)"
      ],
      "execution_count": 42,
      "outputs": []
    },
    {
      "cell_type": "code",
      "metadata": {
        "id": "NHpaVN4AmbcU",
        "colab_type": "code",
        "colab": {}
      },
      "source": [
        "def data_generator(noise=0.1, n_samples=300, D1=True):\n",
        "    # Create covariates and response variable\n",
        "    if D1:\n",
        "        X = np.linspace(-3, 3, num=n_samples).reshape(-1,1) # 1-D\n",
        "        np.random.shuffle(X)\n",
        "        y = np.random.normal((0.5*np.sin(X[:,0]*3) + X[:,0]), noise) # 1-D with trend\n",
        "    else:\n",
        "        X = np.random.multivariate_normal(np.zeros(3), noise*np.eye(3), size = n_samples) # 3-D\n",
        "        np.random.shuffle(X)    \n",
        "        y = np.sin(X[:,0]) - 5*(X[:,1]**2) + 0.5*X[:,2] # 3-D\n",
        "\n",
        "    # Stack them together vertically to split data set\n",
        "    data_set = np.vstack((X.T,y)).T\n",
        "    \n",
        "    train, validation, test = np.split(data_set, [int(0.35*n_samples), int(0.7*n_samples)], axis=0)\n",
        "    \n",
        "    # Standardization of the data, remember we do the standardization with the training set mean and standard deviation\n",
        "    train_mu = np.mean(train, axis=0)\n",
        "    train_sigma = np.std(train, axis=0)\n",
        "    \n",
        "    train = (train-train_mu)/train_sigma\n",
        "    validation = (validation-train_mu)/train_sigma\n",
        "    test = (test-train_mu)/train_sigma\n",
        "\n",
        "    x_train, x_validation, x_test = train[:,:-1], validation[:,:-1], test[:,:-1]\n",
        "    y_train, y_validation, y_test = train[:,-1], validation[:,-1], test[:,-1]\n",
        "\n",
        "    return x_train, y_train,  x_validation, y_validation, x_test, y_test"
      ],
      "execution_count": 43,
      "outputs": []
    },
    {
      "cell_type": "code",
      "metadata": {
        "id": "Bg37-Yl5mbcZ",
        "colab_type": "code",
        "colab": {
          "base_uri": "https://localhost:8080/",
          "height": 68
        },
        "outputId": "620b02c0-1e10-4786-b077-7bfd88c262b6"
      },
      "source": [
        "D1 = True\n",
        "x_train, y_train, x_validation, y_validation, x_test, y_test = data_generator(noise=0.5, D1=D1)\n",
        "print(\"train length:\", len(x_train), \"\\nvalidation length:\", len(x_validation), \"\\ntest length:\", len(x_test), )"
      ],
      "execution_count": 44,
      "outputs": [
        {
          "output_type": "stream",
          "text": [
            "train length: 105 \n",
            "validation length: 105 \n",
            "test length: 90\n"
          ],
          "name": "stdout"
        }
      ]
    },
    {
      "cell_type": "code",
      "metadata": {
        "id": "HXXSnDbSmbcd",
        "colab_type": "code",
        "colab": {
          "base_uri": "https://localhost:8080/",
          "height": 265
        },
        "outputId": "f985bb40-a1bc-452d-9b99-17e7ce2079f5"
      },
      "source": [
        "if D1:\n",
        "    plt.scatter(x_train[:,0], y_train);\n",
        "    plt.scatter(x_validation[:,0], y_validation);\n",
        "    plt.scatter(x_test[:,0], y_test);\n",
        "else:\n",
        "    plt.scatter(x_train[:,1], y_train);\n",
        "    plt.scatter(x_validation[:,1], y_validation);\n",
        "    plt.scatter(x_test[:,1], y_test);"
      ],
      "execution_count": 45,
      "outputs": [
        {
          "output_type": "display_data",
          "data": {
            "image/png": "[encoded data removed]",
            "text/plain": [
              "<Figure size 432x288 with 1 Axes>"
            ]
          },
          "metadata": {
            "tags": [],
            "needs_background": "light"
          }
        }
      ]
    },
    {
      "cell_type": "markdown",
      "metadata": {
        "id": "CzETSsw6mbcg",
        "colab_type": "text"
      },
      "source": [
        "# Initialization"
      ]
    },
    {
      "cell_type": "markdown",
      "metadata": {
        "id": "0nzssh7smbch",
        "colab_type": "text"
      },
      "source": [
        "The steps to create a feed forward neural network are the following:\n",
        "\n",
        "1. **Number of hidden layer and hidden units**. We have to define the number of hidden units in each layer. We are going to save these numbers in a list \"L\" that is going to start with our input dimensionality (the number of features in X) and is going to finish with our output dimensionality (the size of Y). Anything in between these values are going to be hidden layers and the number of hidden units in each hidden layer is defined by the researcher. Remember that for each unit in each layer (besides the first one, according to our list L) there is a bias term.\n",
        "2. **Activation functions** for each hidden layer. Each hidden layer in your list must have an activation function (it can also be the linear activation which is equivalent to identity function). The power of neural networks comes from non-linear activation functions that learn representations (features) from the data allowing us to learn from it. \n",
        "3. **Parameter initialization**. We will initialize the weights to have random values. This is done in practice by drawing pseudo random numbers from a Gaussian or uniform distribution. It turns out that for deeper models we have to be careful about how we scale the random numbers. This will be the topic of the exercise below. For now we will just use unit variance Gaussians.  \n",
        "\n",
        "Our initialization will work as follows: \n",
        "\n",
        "For each layer of the neural network defined in L, initialize a matrix of weights of size (units_in, units_out) from a random normal distribution [np.random.normal()](https://docs.scipy.org/doc/numpy-1.15.0/reference/generated/numpy.random.normal.html) and save them in a list called \"layers\". For each layer in our neural network, initialize a matrix of weights of size (1, units_out) as above and save them in a list called \"bias\". The function should return a tuple (layers, bias). The length of our lists must be len(L)-1."
      ]
    },
    {
      "cell_type": "code",
      "metadata": {
        "id": "he3XJqrnmbci",
        "colab_type": "code",
        "colab": {}
      },
      "source": [
        "# Initialize neural network:\n",
        "# the NN is a tuple with a list with weights and list with biases\n",
        "def init_NN(L):\n",
        "    \"\"\"\n",
        "    Function that initializes our feed-forward neural network. \n",
        "    Input: \n",
        "    L: list of integers. The first element must be equal to the number of features of x and the last element \n",
        "        must be the number of outputs in the network.\n",
        "    Output:\n",
        "    A tuple of:\n",
        "    weights: a list with randomly initialized weights of shape (in units, out units) each. The units are the ones we defined in L.\n",
        "        For example, if L = [2, 3, 4] layers must be a list with a first element of shape (2, 3) and a second elemtn of shape (3, 4). \n",
        "        The length of layers must be len(L)-1\n",
        "    biases: a list with randomly initialized biases of shape (1, out_units) each. For the example above, bias would be a list of length\n",
        "        2 with a first element of shape (1, 3) and a second element of shape (1, 4).\n",
        "    \"\"\"\n",
        "    weights = []\n",
        "    biases  = []\n",
        "    for i in range(len(L)-1):\n",
        "        weights.append(np.random.normal(loc=0.0, scale=1.0, size=[L[i],L[i+1]])) \n",
        "        biases.append(np.random.normal(loc=0.0, scale=1.0, size=[1, L[i+1]]))     \n",
        "        \n",
        "    return (weights, biases)\n",
        "\n",
        "# Initialize the unit test neural network:\n",
        "# Same steps as above but we will not initialize the weights randomly.\n",
        "def init_NN_UT(L):\n",
        "    weights = []\n",
        "    biases  = []\n",
        "    for i in range(len(L)-1):\n",
        "        weights.append(np.ones((L[i],L[i+1]))) \n",
        "        biases.append(np.ones((1, L[i+1])))     \n",
        "        \n",
        "    return (weights, biases)\n",
        "\n",
        "# Initializer the unit test neural network\n",
        "L_UT  = [3, 5, 1]\n",
        "NN_UT = init_NN_UT(L_UT)"
      ],
      "execution_count": 46,
      "outputs": []
    },
    {
      "cell_type": "markdown",
      "metadata": {
        "id": "26G3YJrambcl",
        "colab_type": "text"
      },
      "source": [
        "## Exercise a) Print all network parameters\n",
        "\n",
        "Make a function that prints all parameters (weights and biases) with information about in which layer the parameters are."
      ]
    },
    {
      "cell_type": "code",
      "metadata": {
        "id": "92BrMenHmbcl",
        "colab_type": "code",
        "colab": {
          "base_uri": "https://localhost:8080/",
          "height": 255
        },
        "outputId": "32463e2d-1b0d-4d08-8ec8-a0c59feec265"
      },
      "source": [
        "def network_params(NN):\n",
        "  for i in range(len(NN[0])):\n",
        "    print(str(i + 1) + \". layer (\" + str(len(NN[0][i][0])) + \" units): \\nWeights:\", NN[0][i], \"\\nBiases:\", NN[1][i], \"\\n\")\n",
        "  \n",
        "network_params(NN_UT)"
      ],
      "execution_count": 47,
      "outputs": [
        {
          "output_type": "stream",
          "text": [
            "1. layer (5 units): \n",
            "Weights: [[1. 1. 1. 1. 1.]\n",
            " [1. 1. 1. 1. 1.]\n",
            " [1. 1. 1. 1. 1.]] \n",
            "Biases: [[1. 1. 1. 1. 1.]] \n",
            "\n",
            "2. layer (1 units): \n",
            "Weights: [[1.]\n",
            " [1.]\n",
            " [1.]\n",
            " [1.]\n",
            " [1.]] \n",
            "Biases: [[1.]] \n",
            "\n"
          ],
          "name": "stdout"
        }
      ]
    },
    {
      "cell_type": "markdown",
      "metadata": {
        "id": "yjPGwNBzmbcq",
        "colab_type": "text"
      },
      "source": [
        "# Advanced initialization schemes\n",
        "\n",
        "If we are not careful with initialization we can run into trouble with in both the forward and backward passes. We have random weights with random +/- sign so the signal we pass forward will also be random and zero on average. However, the absolute size of the signal may grow or shrink from layer to layer depending upon the absolute scale of random weights. A statistical analysis of this effect and the same effect for the backward pass are presented in these two papers: [Glorot initialization](http://proceedings.mlr.press/v9/glorot10a/glorot10a.pdf) and [He initialization](https://arxiv.org/pdf/1502.01852v1.pdf). \n",
        "\n",
        "The result of the analyses are proposals for how to make the initialization such that the variance of the signals (forward and backward) are kept constant when propagating layer to layer. The exact expressions depend upon the activation function used.\n",
        "\n",
        "We define $n_{in}$ and $n_{out}$ as the number of input units and output units of a particular layer. \n",
        "\n",
        "In the linked paper, Glorot and Bengio propose that for tanh activation functions the following two alternative initializations:\n",
        "\n",
        "$$w_{ij} \\sim U \\bigg[ -\\sqrt{\\frac{6}{(n_{in} + n_{out})}}, \\, \\sqrt{\\frac{6}{(n_{in} + n_{out})}} \\bigg]$$\n",
        "\n",
        "$$w_{ij} \\sim N \\bigg( 0, \\, \\frac{2}{(n_{in} + n_{out})} \\bigg) \\ . $$\n",
        "\n",
        "Here $U[a,b]$ is a uniform distribution in the interval $a$ to $b$ and $N(\\mu,\\sigma^2)$ is a Gaussian distribution with mean $\\mu$ and variance $\\sigma^2$.\n",
        "\n",
        "He et.al. proposes for Rectified Linear Unit activations (ReLU) the following initialization:\n",
        "\n",
        "$$w_{ij} \\sim U \\bigg[ -\\sqrt{\\frac{6}{n_{in}}}, \\, \\sqrt{\\frac{6}{n_{in}}} \\bigg]$$\n",
        "\n",
        "$$w_{ij} \\sim N \\bigg( 0, \\, \\frac{2}{n_{in}} \\bigg) \\ . $$"
      ]
    },
    {
      "cell_type": "markdown",
      "metadata": {
        "id": "w2fMv-97mbcr",
        "colab_type": "text"
      },
      "source": [
        "## Exercise b) Glorot and He initialization\n",
        "\n",
        "Implement these initialization schemes by modifying the code given below.\n",
        "\n",
        "**NOTE:** The Gaussian is defined as $N( \\mu, \\, \\sigma^{2})$ but Numpy takes $\\sigma$ as argument.\n",
        "\n",
        "Explain briefly how you would test numerically that these initializations have the sought after property. Hint: See plots in Glorot paper."
      ]
    },
    {
      "cell_type": "code",
      "metadata": {
        "id": "l9SXO7dhmbcr",
        "colab_type": "code",
        "colab": {}
      },
      "source": [
        "## Glorot\n",
        "def init_NN_glorot_Tanh(L, uniform=False):\n",
        "    \"\"\"\n",
        "    Initializer using the glorot initialization scheme\n",
        "    \"\"\"\n",
        "    weights = []\n",
        "    biases  = []\n",
        "    for i in range(len(L)-1):\n",
        "        if uniform:\n",
        "            bound = np.sqrt(6/(L[i]+L[i+1]))\n",
        "            weights.append(np.random.uniform(low=-bound, high=bound, size=[L[i],L[i+1]])) \n",
        "            biases.append(np.random.uniform(low=-bound, high=bound, size=[1, L[i+1]]))  \n",
        "        else:\n",
        "            std = np.sqrt(2 / (L[i]+L[i+1]))\n",
        "            weights.append(np.random.normal(loc=0.0, scale=std, size=[L[i],L[i+1]])) \n",
        "            biases.append(np.random.normal(loc=0.0, scale=std, size=[1, L[i+1]]))       \n",
        "    return (weights, biases)\n",
        "\n",
        "## He\n",
        "def init_NN_he_ReLU(L, uniform=False):\n",
        "    \"\"\"\n",
        "    Initializer using the He initialization scheme\n",
        "    \"\"\"\n",
        "    weights = []\n",
        "    biases  = []\n",
        "    for i in range(len(L)-1):\n",
        "        if uniform:\n",
        "            bound = np.sqrt(6/L[i])\n",
        "            weights.append(np.random.uniform(low=-bound, high=bound, size=[L[i],L[i+1]])) \n",
        "            biases.append(np.random.uniform(low=-bound, high=bound, size=[1, L[i+1]]))  \n",
        "        else:\n",
        "            std = np.sqrt(2 / L[i])\n",
        "            weights.append(np.random.normal(loc=0.0, scale=std, size=[L[i],L[i+1]])) \n",
        "            biases.append(np.random.normal(loc=0.0, scale=std, size=[1, L[i+1]]))       \n",
        "        \n",
        "    return (weights, biases)"
      ],
      "execution_count": 48,
      "outputs": []
    },
    {
      "cell_type": "markdown",
      "metadata": {
        "id": "f82DtyNsmbcu",
        "colab_type": "text"
      },
      "source": [
        "# Activation functions\n",
        "\n",
        "To have a full definition of the neural network, we must define an activation function for every layer in our list L (again, exluding the first term, which is the number of input dimensions). Several activation functions have been proposed and have different characteristics. Here, we will implement the linear activation function (the identity function), the sigmoid activation function (squeeshes the outcome of each neuron into the $[0, 1]$ range), the Hyperbolic Tangent (Tanh) that squeeshes the outcome of each neuron to $[-1, 1]$ and the Rectified Linear Unit (ReLU). \n",
        "\n",
        "We will also include the derivative in the function. We need this in order to do our back-propagation algorithm. Don't rush, we will get there soon. For any neural network, save the activation functions in a list. This list must be of size len(L)-1."
      ]
    },
    {
      "cell_type": "markdown",
      "metadata": {
        "id": "N8z1j6R7mbcu",
        "colab_type": "text"
      },
      "source": [
        "## Linear activation"
      ]
    },
    {
      "cell_type": "code",
      "metadata": {
        "id": "T8CRx903mbcu",
        "colab_type": "code",
        "colab": {}
      },
      "source": [
        "def Linear(x, derivative=False):\n",
        "    \"\"\"\n",
        "    Computes the element-wise Linear activation function for an array x\n",
        "    inputs:\n",
        "    x: The array where the function is applied\n",
        "    derivative: if set to True will return the derivative instead of the forward pass\n",
        "    \"\"\"\n",
        "    \n",
        "    if derivative:              # Return the derivative of the function evaluated at x\n",
        "        return np.ones_like(x)\n",
        "    else:                       # Return the forward pass of the function at x\n",
        "        return x"
      ],
      "execution_count": 49,
      "outputs": []
    },
    {
      "cell_type": "markdown",
      "metadata": {
        "id": "Eu9NDSAAmbcx",
        "colab_type": "text"
      },
      "source": [
        "## Sigmoid activation"
      ]
    },
    {
      "cell_type": "code",
      "metadata": {
        "id": "_incwh_Ombcx",
        "colab_type": "code",
        "colab": {}
      },
      "source": [
        "def Sigmoid(x, derivative=False):\n",
        "    \"\"\"\n",
        "    Computes the element-wise Sigmoid activation function for an array x\n",
        "    inputs:\n",
        "    x: The array where the function is applied\n",
        "    derivative: if set to True will return the derivative instead of the forward pass\n",
        "    \"\"\"\n",
        "    f = 1/(1+np.exp(-x))\n",
        "    \n",
        "    if derivative:              # Return the derivative of the function evaluated at x\n",
        "        return f*(1-f)\n",
        "    else:                       # Return the forward pass of the function at x\n",
        "        return f"
      ],
      "execution_count": 50,
      "outputs": []
    },
    {
      "cell_type": "markdown",
      "metadata": {
        "id": "mpmkU6YAmbcz",
        "colab_type": "text"
      },
      "source": [
        "## Hyperbolic Tangent activation"
      ]
    },
    {
      "cell_type": "code",
      "metadata": {
        "id": "Bo8Atjoimbc0",
        "colab_type": "code",
        "colab": {}
      },
      "source": [
        "def Tanh(x, derivative=False):\n",
        "    \"\"\"\n",
        "    Computes the element-wise Sigmoid activation function for an array x\n",
        "    inputs:\n",
        "    x: The array where the function is applied\n",
        "    derivative: if set to True will return the derivative instead of the forward pass\n",
        "    \"\"\"\n",
        "    f = (np.exp(x)-np.exp(-x))/(np.exp(x)+np.exp(-x))\n",
        "    \n",
        "    if derivative:              # Return the derivative of the function evaluated at x\n",
        "        return 1-f**2\n",
        "    else:                       # Return the forward pass of the function at x\n",
        "        return f"
      ],
      "execution_count": 51,
      "outputs": []
    },
    {
      "cell_type": "markdown",
      "metadata": {
        "id": "O_EPF004mbc3",
        "colab_type": "text"
      },
      "source": [
        "## Rectifier linear unit (ReLU)"
      ]
    },
    {
      "cell_type": "code",
      "metadata": {
        "id": "Dx2CTzhYmbc4",
        "colab_type": "code",
        "colab": {}
      },
      "source": [
        "def ReLU(x, derivative=False):\n",
        "    \"\"\"\n",
        "    Computes the element-wise Rectifier Linear Unit activation function for an array x\n",
        "    inputs:\n",
        "    x: The array where the function is applied\n",
        "    derivative: if set to True will return the derivative instead of the forward pass\n",
        "    \"\"\"\n",
        "    \n",
        "    if derivative:              # Return the derivative of the function evaluated at x\n",
        "        return (x>0).astype(int)\n",
        "    else:                       # Return the forward pass of the function at x\n",
        "        return np.maximum(x, 0)"
      ],
      "execution_count": 52,
      "outputs": []
    },
    {
      "cell_type": "markdown",
      "metadata": {
        "id": "K_M1BIufmbc7",
        "colab_type": "text"
      },
      "source": [
        "## Visualization"
      ]
    },
    {
      "cell_type": "markdown",
      "metadata": {
        "id": "cvwsiiNKmbc7",
        "colab_type": "text"
      },
      "source": [
        "Now that we have defined our activation functions we can visualize them to see what they look like:"
      ]
    },
    {
      "cell_type": "code",
      "metadata": {
        "id": "-3HImHTombc8",
        "colab_type": "code",
        "colab": {
          "base_uri": "https://localhost:8080/",
          "height": 341
        },
        "outputId": "ba9c99b2-ade3-4ffd-b473-9499e9d88cc2"
      },
      "source": [
        "x = np.linspace(-6, 6, 100)\n",
        "units = {\n",
        "    \"Linear\": lambda x: Linear(x),\n",
        "    \"Sigmoid\": lambda x: Sigmoid(x),\n",
        "    \"ReLU\": lambda x: ReLU(x),\n",
        "    \"tanh\": lambda x: Tanh(x)\n",
        "}\n",
        "\n",
        "plt.figure(figsize=(5, 5))\n",
        "[plt.plot(x, unit(x), label=unit_name, lw=2) for unit_name, unit in units.items()]\n",
        "plt.legend(loc=2, fontsize=16)\n",
        "plt.title('Our activation functions', fontsize=20)\n",
        "plt.ylim([-2, 5])\n",
        "plt.xlim([-6, 6])\n",
        "plt.show()"
      ],
      "execution_count": 53,
      "outputs": [
        {
          "output_type": "display_data",
          "data": {
            "image/png": "[encoded data removed]",
            "text/plain": [
              "<Figure size 360x360 with 1 Axes>"
            ]
          },
          "metadata": {
            "tags": [],
            "needs_background": "light"
          }
        }
      ]
    },
    {
      "cell_type": "markdown",
      "metadata": {
        "id": "n0nobTgYmbc_",
        "colab_type": "text"
      },
      "source": [
        "## Exercise c) Glorot initialization for all activation functions\n",
        "\n",
        "Implement a function by adding to the code snippet below that can take network L and list of activations function as argument and return a Glorot initialized network.  Hint: [This blog post](https://mmuratarat.github.io/2019-02-25/xavier-glorot-he-weight-init) gives a table for the activation functions we use here.\n",
        "\n",
        "Briefly explain in words how these how these values are calculated."
      ]
    },
    {
      "cell_type": "code",
      "metadata": {
        "id": "J7e_DawTmbc_",
        "colab_type": "code",
        "colab": {
          "base_uri": "https://localhost:8080/",
          "height": 255
        },
        "outputId": "2106d0a3-0f4a-4a3e-eef0-dda7212ce0d9"
      },
      "source": [
        "def init_NN_all(L, activations, uniform=False):\n",
        "    \"\"\"\n",
        "    Initializer using the glorot initialization scheme\n",
        "    \"\"\"\n",
        "    # checking if dimensions match\n",
        "    if len(L) - 1 != len(activations):\n",
        "      raise Exception(\"Dimensions do not match. Number of layers is expected to equal (number of activations + 1)\")\n",
        "\n",
        "    # initialize arrays\n",
        "    weights = []\n",
        "    biases  = []\n",
        "    \n",
        "    for i in range(len(activations)):\n",
        "      if activations[i] == ReLU:\n",
        "        if uniform:\n",
        "          bound = np.sqrt(6/L[i])  \n",
        "        else:\n",
        "          std = np.sqrt(2 / L[i])\n",
        "      elif activations[i] == Tanh or activations[i] == Linear:\n",
        "        if uniform:\n",
        "          bound = np.sqrt(6/(L[i]+L[i+1]))\n",
        "        else:\n",
        "          std = np.sqrt(2 / (L[i]+L[i+1]))\n",
        "      elif activations[i] == Sigmoid:\n",
        "        if uniform:\n",
        "          bound = 4 * np.sqrt(6/(L[i]+L[i+1]))\n",
        "        else:\n",
        "          std = 4 * np.sqrt(2 / (L[i]+L[i+1]))\n",
        "      else:\n",
        "        raise Exception(\"Activation function not recognized\")\n",
        "\n",
        "      if uniform:\n",
        "        weights.append(np.random.uniform(low=-bound, high=bound, size=[L[i],L[i+1]])) \n",
        "        biases.append(np.random.uniform(low=-bound, high=bound, size=[1, L[i+1]]))\n",
        "      else:\n",
        "        weights.append(np.random.normal(loc=0.0, scale=std, size=[L[i],L[i+1]])) \n",
        "        biases.append(np.random.normal(loc=0.0, scale=std, size=[1, L[i+1]])) \n",
        "\n",
        "    return (weights, biases)\n",
        "\n",
        "# Initializes the unit test neural network\n",
        "L_UT  = [3, 5, 1]\n",
        "ACT_UT = [ReLU, Tanh]\n",
        "NN_Glorot = init_NN_all(L_UT, ACT_UT)\n",
        "\n",
        "network_params(NN_Glorot)\n"
      ],
      "execution_count": 54,
      "outputs": [
        {
          "output_type": "stream",
          "text": [
            "1. layer (5 units): \n",
            "Weights: [[-0.15260739 -0.03902109 -0.86651731 -0.5342936  -0.63133554]\n",
            " [-0.28641822  0.17817811  0.74347249  0.86167415  0.53369014]\n",
            " [-0.71359688 -0.00269111  1.93863184  0.82836247 -0.35967047]] \n",
            "Biases: [[ 1.29172877 -0.31685717 -0.54574792  1.13961035 -1.06932417]] \n",
            "\n",
            "2. layer (1 units): \n",
            "Weights: [[-1.10492   ]\n",
            " [ 0.5434509 ]\n",
            " [ 0.01598737]\n",
            " [ 0.07353449]\n",
            " [-0.20866757]] \n",
            "Biases: [[-0.13769421]] \n",
            "\n"
          ],
          "name": "stdout"
        }
      ]
    },
    {
      "cell_type": "markdown",
      "metadata": {
        "id": "cy9zegXHmbdC",
        "colab_type": "text"
      },
      "source": [
        "# Numpy einsum (EINstein SUMmation)"
      ]
    },
    {
      "cell_type": "markdown",
      "metadata": {
        "id": "UzO0fl51mbdC",
        "colab_type": "text"
      },
      "source": [
        "[Einsum](https://docs.scipy.org/doc/numpy/reference/generated/numpy.einsum.html) gives us the possibility to compute almost any matrix operation in a single function. You can find a good description in the link above. Here are a few examples of some important uses:\n",
        "\n",
        "**Transpose:** We can write the transpose of matrix $A$:\n",
        "\n",
        "```\n",
        "np.einsum('ij -> ji', A) \n",
        "```\n",
        "\n",
        "**Trace:** We can write the trace of matrix $A$:\n",
        "\n",
        "```\n",
        "np.einsum('ii -> ', A) \n",
        "```\n",
        "\n",
        "**Diagonal:** We can write the diagonal of matrix $A$:\n",
        "\n",
        "```\n",
        "np.einsum('ii -> i', A) \n",
        "```\n",
        " \n",
        "**Matrix product:** We can write the multiplication of matrices $A$ and $B$ as:\n",
        "\n",
        "```\n",
        "np.einsum('ij, jk -> ik', A, B)\n",
        "```\n",
        "\n",
        "Note that $j$ in both matrices $A$ and $B$ should be the same size. \n",
        "\n",
        "**Batched matrix product (or why bothering):** All of the functions we performed above are built in numpy (np.tranpose, np.trace, np.matmul), however, when you want to do more complex operations, it might become less readable and computationaly efficient. Let's introduce a three dimensional matrix $H$ with indices $b,j,k$, where the first dimension is the batch (training example) dimension. In einsum, we can then write:\n",
        "\n",
        "```\n",
        "np.einsum('ij, bjk -> bik', A, H)\n",
        "```\n",
        "\n",
        "In order to perform a batched matrix multiplication where we multiple over the second dimension in the first marix and second dimension in the second matrix. The result is a new three dimensional matrix where the first dimension is the first dimension from $H$ and second is the first dimension from $A$ and last dimension the last dimension from $H$. This is a very simple one line (and readable) way to do matrix operations that will be very useful for neural network code. \n",
        "\n",
        "\n",
        "#### _**Tips and tricks when using einsum**_\n",
        "\n",
        "At the beginning, einsum might be a bit difficult to work with. The most important thing to do when using it is keeping track of the dimensions of your input and output matrices. An easy way to keep track of these dimensions is by using some sort of naming convention. Just like in the batched matrix product above we used $b$ to denote the batch dimension. In all the functions of this notebook, we leave some convention of names of indexes for the einsum in the explanation of the functions. We hope you find them useful!\n",
        "\n",
        "There are some other useful resources to understand numpy.einsum:\n",
        "\n",
        "* [Olexa Bilaniuk's great blogpost on einsum]( https://obilaniu6266h16.wordpress.com/2016/02/04/einstein-summation-in-numpy/ )\n",
        "* [Stackoverflow answer to: Understanding NumPy's einsum]( https://stackoverflow.com/q/26089893/8899404 )\n",
        "* [Jessica Stringham post on einsum]( https://jessicastringham.net/2018/01/01/einsum/ )\n",
        "* [Slides of einstein summation from oxford]( http://www-astro.physics.ox.ac.uk/~sr/lectures/vectors/lecture10final.pdfc )"
      ]
    },
    {
      "cell_type": "markdown",
      "metadata": {
        "id": "16uin4V1mbdD",
        "colab_type": "text"
      },
      "source": [
        "# Forward pass\n",
        "\n",
        "The forward pass has been implemented for you. Please note how we have used einsum to perform the affine tranformation."
      ]
    },
    {
      "cell_type": "code",
      "metadata": {
        "id": "GB9zf7J9mbdE",
        "colab_type": "code",
        "colab": {}
      },
      "source": [
        "def forward_pass(x, NN, activations):\n",
        "    \"\"\"\n",
        "    This function performs a forward pass recursively. It saves lists for both affine transforms of units (z) and activated units (a)\n",
        "    Input:\n",
        "    x: The input of the network             (np.array of shape: (batch_size, number_of_features))\n",
        "    NN: The initialized neural network      (tuple of list of matrices)\n",
        "    activations: the activations to be used (list of functions, same len as NN)\n",
        "\n",
        "    Output:\n",
        "    a: A list of affine transformations, that is, all x*w+b.\n",
        "    z: A list of activated units (ALL activated units including input and output).\n",
        "    \n",
        "    Shapes for the einsum:\n",
        "    b: batch size\n",
        "    i: size of the input hidden layer (layer l)\n",
        "    o: size of the output (layer l+1)\n",
        "    \"\"\"\n",
        "    z = [x]\n",
        "    a = []\n",
        "        \n",
        "    for l in range(len(NN[0])):\n",
        "        a.append(np.einsum('bi, io -> bo', z[l], NN[0][l]) + NN[1][l])  # The affine transform x*w+b\n",
        "        z.append(activations[l](a[l]))                                  # The non-linearity    \n",
        "    \n",
        "    return a, z"
      ],
      "execution_count": 55,
      "outputs": []
    },
    {
      "cell_type": "markdown",
      "metadata": {
        "id": "AE63pIEEmbdI",
        "colab_type": "text"
      },
      "source": [
        "# Forward pass unit test\n",
        "\n",
        "Below is a piece of code that takes a very particular setting of the network and inputs and test whether it gives the expected results."
      ]
    },
    {
      "cell_type": "code",
      "metadata": {
        "id": "rlgStz4-mbdJ",
        "colab_type": "code",
        "colab": {}
      },
      "source": [
        "ACT_F_UT = [Linear, Linear]\n",
        "test_a, test_z = forward_pass(np.array([[1,1,1]]), NN_UT, ACT_F_UT) # input has shape (1, 3) 1 batch, 3 features\n",
        "\n",
        "# Checking shapes consistency\n",
        "assert np.all(test_z[0]==np.array([1,1,1])) # Are the input vector and the first units the same?\n",
        "assert np.all(test_z[1]==test_a[0])         # Are the first affine transformations and hidden units the same?\n",
        "assert np.all(test_z[2]==test_a[1])         # Are the output units and the affine transformations the same?\n",
        "\n",
        "# Checking correctnes of values\n",
        "# First layer, calculate np.sum(np.array([1,1,1])*np.array([1,1,1]))+1 = 4\n",
        "assert np.all(test_z[1] == 4.)\n",
        "# Second layer, calculate np.sum(np.array([4,4,4,4,4])*np.array([1,1,1,1,1]))+1 = 21\n",
        "assert np.all(test_z[2] == 21.)"
      ],
      "execution_count": 56,
      "outputs": []
    },
    {
      "cell_type": "markdown",
      "metadata": {
        "id": "CTADwLLMmbdL",
        "colab_type": "text"
      },
      "source": [
        "# Loss functions"
      ]
    },
    {
      "cell_type": "markdown",
      "metadata": {
        "id": "VR0JvcTkmbdM",
        "colab_type": "text"
      },
      "source": [
        "In order to perform a backward pass we need to define a loss function and its derivative with respect to the output of the neural network $y$"
      ]
    },
    {
      "cell_type": "code",
      "metadata": {
        "id": "Z5lI04EYmbdM",
        "colab_type": "code",
        "colab": {}
      },
      "source": [
        "def squared_error(t, y, derivative=False):\n",
        "    \"\"\"\n",
        "    Computes the squared error function and its derivative \n",
        "    Input:\n",
        "    t:      target (expected output)          (np.array)\n",
        "    y:      output from forward pass (np.array, must be the same shape as t)\n",
        "    derivative: whether to return the derivative with respect to y or return the loss (boolean)\n",
        "    \"\"\"\n",
        "    if np.shape(t)!=np.shape(y):\n",
        "        raise Exception(\"t and y have different shapes\")\n",
        "    if derivative: # Return the derivative of the function\n",
        "        return (y-t)\n",
        "    else:\n",
        "        return 0.5*(y-t)**2"
      ],
      "execution_count": 57,
      "outputs": []
    },
    {
      "cell_type": "markdown",
      "metadata": {
        "id": "jEmbdncGmbdP",
        "colab_type": "text"
      },
      "source": [
        "## Exercise d) Implement cross entropy loss\n",
        "\n",
        "Insert code below to implement cross-entropy loss for general dimensionality of $t$."
      ]
    },
    {
      "cell_type": "code",
      "metadata": {
        "id": "7LY63-4KmbdP",
        "colab_type": "code",
        "colab": {}
      },
      "source": [
        "def cross_entropy_loss(t, y, derivative=False):\n",
        "    \"\"\"\n",
        "    Computes the cross entropy loss function and its derivative \n",
        "    Input:\n",
        "    t:      target (expected output)          (np.array)\n",
        "    y:      output from forward pass (np.array, must be the same shape as t)\n",
        "    derivative: whether to return the derivative with respect to y or return the loss (boolean)\n",
        "    \"\"\"\n",
        "    if np.shape(t)!=np.shape(y):\n",
        "        raise Exception(\"t and y have different shapes\")\n",
        "    if derivative: # Return the derivative of the function\n",
        "        return -np.sum(t/y)\n",
        "    else:\n",
        "        return -t*np.log(y)"
      ],
      "execution_count": 58,
      "outputs": []
    },
    {
      "cell_type": "markdown",
      "metadata": {
        "id": "-alZFr_nmbdR",
        "colab_type": "text"
      },
      "source": [
        "# Backward pass "
      ]
    },
    {
      "cell_type": "markdown",
      "metadata": {
        "id": "bmzuaS7umbdS",
        "colab_type": "text"
      },
      "source": [
        "## Exercise e) Complete code for backward pass\n",
        "\n",
        "Below is a implementation of the backward pass with some lines removed. Insert the missing lines."
      ]
    },
    {
      "cell_type": "code",
      "metadata": {
        "id": "sMANy_bLmbdS",
        "colab_type": "code",
        "colab": {}
      },
      "source": [
        "def backward_pass(x, t, y, z, a, NN, activations, loss):\n",
        "    \"\"\"\n",
        "    This function performs a backward pass ITERATIVELY. It saves lists all of the derivatives in the process\n",
        "    \n",
        "    Input:\n",
        "    x:           The input used for the batch                (np.array)\n",
        "    t:           The observed targets                        (np.array, the first dimension must be the same to x)\n",
        "    y:           The output of the forward_pass of NN for x  (np.array, must have the same shape as t)\n",
        "    a:           The affine transforms from the forward_pass (np.array)\n",
        "    z:           The activated units from the forward_pass (np.array)\n",
        "    activations: The activations to be used                  (list of functions)\n",
        "    loss:        The loss function to be used                (one function)\n",
        "    \n",
        "    Output:\n",
        "    g_w: A list of gradients for every hidden unit \n",
        "    g_b: A list of gradients for every bias\n",
        "    \n",
        "    Shapes for the einsum:\n",
        "    b: batch size\n",
        "    i: size of the input hidden layer (layer l)\n",
        "    o: size of the output (layer l+1)\n",
        "    \"\"\"\n",
        "    BS = x.shape[0] # Implied batch shape \n",
        "    \n",
        "    # First, let's compute the list of derivatives of z with respect to a \n",
        "    d_a = []\n",
        "    for i in range(len(activations)):\n",
        "        d_a.append(activations[i](a[i], derivative=True))\n",
        "    \n",
        "    # Second, let's compute the derivative of the loss function\n",
        "    t = t.reshape(BS, -1)\n",
        "    \n",
        "    d_loss = loss(t, y, True) # CHANGED\n",
        "\n",
        "    # Third, let's compute the derivative of the biases and the weights\n",
        "    g_w   = [] # List to save the gradient of the weights\n",
        "    g_b   = [] # List to save the gradients of the biases\n",
        "\n",
        "    delta = np.einsum('bo, bo -> bo', d_loss, d_a[-1])# loss shape: (b, o); pre-activation units shape: (b, o) hadamard product\n",
        "\n",
        "    g_b.append(np.mean(delta, axis=0))\n",
        "    g_w.append(np.mean(np.einsum('bo, bi -> bio', delta, z[-2]), axis=0)) # delta shape: (b, o), activations shape: (b, h) \n",
        "\n",
        "    for l in range(1, len(NN[0])):\n",
        "        d_C_d_z = np.einsum('bo, io -> bi', delta, NN[0][-l])  # Derivative of the Cost with respect to an activated layer d_C_d_z. \n",
        "                                                               #  delta shape: as above; weights shape: (i, o)\n",
        "                                                               # Delta: d_C_d_z (element-wise mult) derivative of the activation layers\n",
        "                                                               #  delta shape: as above; d_z shape: (b, i)  \n",
        "        delta = np.einsum('bo, bo -> bo', d_C_d_z, d_a[-l-1]) # CHANGED\n",
        "                                                                \n",
        "        g_b.append(np.mean(delta, axis=0)) \n",
        "        g_w.append(np.mean(np.einsum('bo, bi -> bio', delta, z[-l-2]), axis=0)) # Derivative of cost with respect to weights in layer l:\n",
        "                                                                                # delta shape: as above; activations of l-1 shape: (b, i)\n",
        "    \n",
        "    return g_b[::-1], g_w[::-1]"
      ],
      "execution_count": 59,
      "outputs": []
    },
    {
      "cell_type": "markdown",
      "metadata": {
        "id": "9oGd0ZdCmbdV",
        "colab_type": "text"
      },
      "source": [
        "# Backward pass unit test"
      ]
    },
    {
      "cell_type": "markdown",
      "metadata": {
        "id": "Q-qR2JwJmbdX",
        "colab_type": "text"
      },
      "source": [
        "We are going to perform the unit test of the backward pass with a finite difference estimation, make sure to read the description of the function and that you understand it well:"
      ]
    },
    {
      "cell_type": "markdown",
      "metadata": {
        "id": "ebyqKCm5mbdX",
        "colab_type": "text"
      },
      "source": [
        "## Exercise f) Test correctness of derivatives with finite difference method\n",
        "\n",
        "Write a small function that uses [the finite difference method](https://en.wikipedia.org/wiki/Finite_difference_method) to test whether the backpropation implementation is working. In short we will use\n",
        "$$\n",
        "\\frac{\\partial E(w)}{\\partial w_{ij}^{(l)}} \\approx \\frac{E(v)-E(w)}{dw}\n",
        "$$\n",
        "for $dw \\ll 1$ and $v$ is the same network as $w$ apart from $v_{ij}^{(l)} = w_{ij}^{(l)} + dw$.\n",
        "\n",
        "As arguments the function should take: some data $x$ and $t$ as in the example above, the network including activations, the indices $i$, $j$, $l$ of the weight we investigate and $dw$ and return the right hand side of the expression above.\n",
        "\n",
        "_Insert your code in the cell below._\n"
      ]
    },
    {
      "cell_type": "code",
      "metadata": {
        "id": "TiE83sVrmbdY",
        "colab_type": "code",
        "colab": {}
      },
      "source": [
        "# Insert your finite difference code here\n",
        "def finite_difference(x, t, NN, activations, i, j, l, dw=None):\n",
        "    \"\"\"\n",
        "    Finite differences gradient estimator: https://en.wikipedia.org/wiki/Finite_difference_method\n",
        "    The idea is that we can approximate the derivative of any function (f) with respect to any argument (w) by evaluating the function at (w+e)\n",
        "    where (e) is a small number and then computing the following opertion (f(w+e)-f(w))/e . Note that we would need N+1 evaluations of\n",
        "    the function in order to compute the whole Jacobian (first derivatives matrix) where N is the number of arguments. The \"+1\" comes from the\n",
        "    fact that we also need to evaluate the function at the current values of the argument.\n",
        "\n",
        "    Input:\n",
        "    x:           The point at which we want to evaluate the gradient\n",
        "    t:           The observed targets\n",
        "    NN:          The tuple that contains the neural network\n",
        "    activations: The activations to be used\n",
        "    i:           The row index of the weight matrix\n",
        "    j:           The column index of the weight matrix\n",
        "    l:           The layer of the NN\n",
        "    dw:          Epsilon (e) in the above explanation.\n",
        "    \n",
        "    Output:\n",
        "    Gradient with respect to the weight i,j in layer l of the NN\n",
        "    \"\"\"\n",
        "\n",
        "    from copy import deepcopy\n",
        "    \n",
        "    if dw == None:\n",
        "        dw = np.finfo(np.float32).eps # Machine epsilon for float 32\n",
        "        \n",
        "    test_a , test_z = forward_pass(x, NN, activations) # evaluate f(x)\n",
        "    \n",
        "    NN_copy             = deepcopy(NN)    \n",
        "    NN_copy[0][l][i,j] += dw\n",
        "    test_a_eps, _       = forward_pass(x, NN_copy, activations) # We evaluate f(x+eps)\n",
        "    # print(test_a_eps[-1], test_a[-1], dw) # used for answering the question about small dw's\n",
        "    grad                = (test_a_eps[-1]-test_a[-1])/dw  # Definition of finite differences gradient\n",
        " \n",
        "    return np.squeeze(grad)"
      ],
      "execution_count": 60,
      "outputs": []
    },
    {
      "cell_type": "markdown",
      "metadata": {
        "id": "Dkzk1kC__Omk",
        "colab_type": "text"
      },
      "source": [
        "Once you have implemented the function you can compare this number with the left hand side computed by the implementation above."
      ]
    },
    {
      "cell_type": "code",
      "metadata": {
        "id": "ljuOSi5-jjVj",
        "colab_type": "code",
        "colab": {}
      },
      "source": [
        "### Testing \n",
        "\n",
        "# Setup\n",
        "x = np.array([[1,1,1]])\n",
        "t = np.array([20])\n",
        "L_UT  = [3, 5, 1]\n",
        "NN_UT = init_NN_UT(L_UT)\n",
        "ACT_F_UT = [Linear, Linear]\n",
        "test_a, test_z = forward_pass(x, NN_UT, ACT_F_UT) # input has shape (1, 3) 1 batch, 3 features\n",
        "\n",
        "# Backward pass\n",
        "_, test_bpg_w = backward_pass(x, t, test_a[-1], test_z, test_a, NN_UT, ACT_F_UT, squared_error)\n",
        "\n",
        "# Two estimations by finite differences\n",
        "fd1_i = 1\n",
        "fd1_j = 0\n",
        "fd1_l = 0\n",
        "fd2_i = 0\n",
        "fd2_j = 0\n",
        "fd2_l = 1\n",
        "\n",
        "test_fdg_w_1 = finite_difference(x, t, NN_UT, ACT_F_UT, fd1_i, fd1_j, fd1_l)\n",
        "test_fdg_w_2 = finite_difference(x, t, NN_UT, ACT_F_UT, fd2_i, fd2_j, fd2_l)\n",
        "\n",
        "# Assertions\n",
        "assert np.allclose(test_fdg_w_1, test_bpg_w[fd1_l][fd1_i, fd1_j])\n",
        "assert np.allclose(test_fdg_w_2, test_bpg_w[fd2_l][fd2_i, fd2_j])\n"
      ],
      "execution_count": 61,
      "outputs": []
    },
    {
      "cell_type": "markdown",
      "metadata": {
        "id": "w0AE4Mj4_hvE",
        "colab_type": "text"
      },
      "source": [
        "Try for different parameters and different values of $dw$. Scan over a range of $dw$ values."
      ]
    },
    {
      "cell_type": "code",
      "metadata": {
        "id": "Iud4cBSJ_ikE",
        "colab_type": "code",
        "colab": {
          "base_uri": "https://localhost:8080/",
          "height": 357
        },
        "outputId": "fbd39363-0d49-4217-cf13-b0a622ba50ab"
      },
      "source": [
        "# Scanning over different dw's\n",
        "logspace = np.logspace(-14, -15, num=20)\n",
        "\n",
        "for dw in logspace:\n",
        "  print(dw, finite_difference(x, t, NN_UT, ACT_F_UT, fd1_i, fd1_j, fd1_l, dw))"
      ],
      "execution_count": 62,
      "outputs": [
        {
          "output_type": "stream",
          "text": [
            "1e-14 1.0658141036401503\n",
            "8.858667904100832e-15 0.8020875637873022\n",
            "7.847599703514622e-15 0.9054268344521661\n",
            "6.951927961775619e-15 1.0220801188777244\n",
            "6.158482110660255e-15 1.1537627665267707\n",
            "5.455594781168514e-15 1.3024111288703732\n",
            "4.8329302385717525e-15 1.470211032820707\n",
            "4.2813323987193956e-15 0.8298149613104475\n",
            "3.7926901907322535e-15 0.9367265714140969\n",
            "3.359818286283788e-15 1.0574124479601157\n",
            "2.976351441631313e-15 1.1936472383964472\n",
            "2.6366508987303554e-15 1.3474342320066959\n",
            "2.3357214690901213e-15 1.5210348176422157\n",
            "2.06913808111479e-15 0.0\n",
            "1.8329807108324375e-15 0.0\n",
            "1.6237767391887243e-15 0.0\n",
            "1.438449888287666e-15 0.0\n",
            "1.2742749857031322e-15 0.0\n",
            "1.1288378916846884e-15 0.0\n",
            "1e-15 0.0\n"
          ],
          "name": "stdout"
        }
      ]
    },
    {
      "cell_type": "markdown",
      "metadata": {
        "id": "pdw1G5oWmbdc",
        "colab_type": "text"
      },
      "source": [
        "Why does the method break down for really small $dw$?\n",
        "\n",
        "**Answer:** The scanning over a range of $dw$ values revealed that at around 2.25e-15, the result suddenly dropped to zero. My guess as to why is that Python is no longer able to perform precise operation on such specific numbers so the subtraction results in zero and no matter what that is divided by, it will result in zero. The problem doesn't seem to be that we are dividing by such a small value that it is basically dividing by zero which would result in +/- infinity.\n",
        "\n",
        "Finite differences gives us gradients without computing gradients explicitly. Why don't we use it in practice then?\n",
        "\n",
        "**Answer:** First, it is an approximation. Second, the computation takes longer as measured in the unit test below."
      ]
    },
    {
      "cell_type": "markdown",
      "metadata": {
        "id": "SyhWoNCEmbdc",
        "colab_type": "text"
      },
      "source": [
        "Below is reference code that computes the finite differences for all parameters."
      ]
    },
    {
      "cell_type": "code",
      "metadata": {
        "id": "hzPOhPD3mbdc",
        "colab_type": "code",
        "colab": {}
      },
      "source": [
        "def finite_diff_grad(x, NN, ACT_F, epsilon=None):\n",
        "    \"\"\"\n",
        "    Finite differences gradient estimator: https://en.wikipedia.org/wiki/Finite_difference_method\n",
        "    The idea is that we can approximate the derivative of any function (f) with respect to any argument (w) by evaluating the function at (w+e)\n",
        "    where (e) is a small number and then computing the following opertion (f(w+e)-f(w))/e . Note that we would need N+1 evaluations of\n",
        "    the function in order to compute the whole Jacobian (first derivatives matrix) where N is the number of arguments. The \"+1\" comes from the\n",
        "    fact that we also need to evaluate the function at the current values of the argument.\n",
        "    \n",
        "    Input:\n",
        "    x:       The point at which we want to evaluate the gradient\n",
        "    NN:      The tuple that contains the neural network\n",
        "    ACT_F:   The activation functions in order to perform the forward pass\n",
        "    epsilon: The size of the difference\n",
        "    \n",
        "    Output:\n",
        "    Two lists, the first one contains the gradients with respect to the weights, the second with respect to the biases\n",
        "    \"\"\"\n",
        "    from copy import deepcopy\n",
        "    \n",
        "    if epsilon == None:\n",
        "        epsilon = np.finfo(np.float32).eps # Machine epsilon for float 32\n",
        "        \n",
        "    grads = deepcopy(NN)               # Copy of structure of the weights and biases to save the gradients                        \n",
        "    _ , test_z = forward_pass(x, NN, ACT_F) # We evaluate f(x)\n",
        "    \n",
        "    for e in range(len(NN)):                       # Iterator over elements of the NN:       weights or biases\n",
        "        for h in range(len(NN[e])):                # Iterator over the layer of the element: layer number\n",
        "            for r in range(NN[e][h].shape[0]):     # Iterator over                           row number\n",
        "                for c in range(NN[e][h].shape[1]): # Iterator over                           column number \n",
        "                    NN_copy             = deepcopy(NN)    \n",
        "                    NN_copy[e][h][r,c] += epsilon\n",
        "                    _, test_z_eps       = forward_pass(x, NN_copy, ACT_F)     # We evaluate f(x+eps)\n",
        "                    grads[e][h][r,c]    = (test_z_eps[-1]-test_z[-1])/epsilon # Definition of finite differences gradient\n",
        "    \n",
        "    return grads[0], grads[1]"
      ],
      "execution_count": 63,
      "outputs": []
    },
    {
      "cell_type": "code",
      "metadata": {
        "scrolled": true,
        "id": "lzr8LwFombde",
        "colab_type": "code",
        "colab": {
          "base_uri": "https://localhost:8080/",
          "height": 51
        },
        "outputId": "2d126888-d08d-4669-9508-08a776d963cf"
      },
      "source": [
        "### Unit test \n",
        "\n",
        "## First lest's compute the backward pass using our own function\n",
        "# Forward pass\n",
        "test_a, test_z = forward_pass(x, NN_UT, ACT_F_UT)\n",
        "\n",
        "# Backward pass\n",
        "import time\n",
        "start_time = time.time()\n",
        "for i in range(10000):\n",
        "  test_g_b, test_g_w = backward_pass(x, t, test_a[-1], test_z, test_a, NN_UT, ACT_F_UT, squared_error)\n",
        "print(\"--- %s seconds ---\" % (time.time() - start_time))\n",
        "\n",
        "# Estimation by finite differences\n",
        "start_time = time.time()\n",
        "for i in range(10000):\n",
        "  test_fdg_w, test_fdg_b = finite_diff_grad(x, NN_UT, ACT_F_UT)\n",
        "print(\"--- %s seconds ---\" % (time.time() - start_time))\n"
      ],
      "execution_count": 64,
      "outputs": [
        {
          "output_type": "stream",
          "text": [
            "--- 0.8504600524902344 seconds ---\n",
            "--- 8.955875158309937 seconds ---\n"
          ],
          "name": "stdout"
        }
      ]
    },
    {
      "cell_type": "code",
      "metadata": {
        "id": "otwYCAeMmbdh",
        "colab_type": "code",
        "colab": {}
      },
      "source": [
        "# Test whether the weights and biases are all equal as the ones we estimated using back propagation\n",
        "for l in range(len(test_g_w)):\n",
        "    assert np.allclose(test_fdg_w[l], test_g_w[l])\n",
        "    assert np.allclose(test_fdg_b[l], test_g_b[l])"
      ],
      "execution_count": 65,
      "outputs": []
    },
    {
      "cell_type": "markdown",
      "metadata": {
        "id": "e4_okT26mbdj",
        "colab_type": "text"
      },
      "source": [
        "# Training and validation\n",
        "\n",
        "We are ready to train some neural networks! Below we give some example initializations and a training loop. Try it out. "
      ]
    },
    {
      "cell_type": "code",
      "metadata": {
        "id": "eMUBnmjCmbdj",
        "colab_type": "code",
        "colab": {}
      },
      "source": [
        "# Initialize an arbitrary neural network\n",
        "# L  = [3, 16, 1]\n",
        "L  = [1, 8, 1]\n",
        "\n",
        "ACT_F = [ReLU, Linear]\n",
        "# ACT_F = [Tanh, Linear]\n",
        "\n",
        "NN = init_NN_all(L, ACT_F)\n",
        "# NN = init_NN(L)\n",
        "# NN = init_NN_glorot(L, uniform=True)\n",
        "# NN = init_NN_he_ReLU(L, uniform=True)\n",
        "\n",
        "# Recommended hyper-parameters for 1-D: \n",
        "# L  = [1, 8, 1]\n",
        "# EPOCHS = 10000\n",
        "# BATCH_SIZE = 128 \n",
        "# LEARN_R = 2.5e-1 for Tanh and LEARN_R = 1e-1 for ReLU\n",
        "\n",
        "# Recommended hyper-parameters for 3-D: \n",
        "# L  = [3, 16, 1] \n",
        "# EPOCHS = 10000\n",
        "# BATCH_SIZE = 128 \n",
        "# LEARN_R = 5e-2 for ReLU and LEARN_R = 1e-1 for Tanh\n",
        "\n",
        "### Notice that, when we switch from tanh to relu activation, we decrease the learning rate. This is due the stability of the gradients \n",
        "## of the activation functions."
      ],
      "execution_count": 66,
      "outputs": []
    },
    {
      "cell_type": "code",
      "metadata": {
        "id": "WBbCYlvnmbdl",
        "colab_type": "code",
        "colab": {}
      },
      "source": [
        "# Initialize training hyperparameters\n",
        "EPOCHS = 20000\n",
        "BATCH_SIZE = 128 \n",
        "LEARN_R = 1e-2 "
      ],
      "execution_count": 67,
      "outputs": []
    },
    {
      "cell_type": "code",
      "metadata": {
        "scrolled": true,
        "id": "XpMYi4DBmbdp",
        "colab_type": "code",
        "colab": {}
      },
      "source": [
        "def train_NN():\n",
        "  train_loss = []\n",
        "  val_loss = []\n",
        "\n",
        "  for e in range(EPOCHS):\n",
        "    # Mini-batch indexes\n",
        "    idx = np.random.choice(x_train.shape[0], size=BATCH_SIZE)\n",
        "    # Forward pass\n",
        "    aff, units = forward_pass(x_train[idx,:], NN, ACT_F)\n",
        "    # Backward pass\n",
        "    g_b, g_w = backward_pass(x_train[idx,:], y_train[idx], units[-1], units, aff, NN, ACT_F, squared_error)\n",
        "    \n",
        "    # Stochastic gradient descent\n",
        "    for l in range(len(g_b)):\n",
        "        NN[0][l] -= LEARN_R*g_w[l]\n",
        "        NN[1][l] -= LEARN_R*g_b[l]\n",
        "        \n",
        "    # Training loss\n",
        "    _, units = forward_pass(x_train, NN, ACT_F)\n",
        "    # Estimate loss function\n",
        "    #print(np.max(squared_error(y_train, units[-1])))\n",
        "    train_loss.append(np.mean(squared_error(y_train, np.squeeze(units[-1]))))\n",
        "    \n",
        "    # Validation\n",
        "    # Forward pass\n",
        "    _, val_units = forward_pass(x_validation, NN, ACT_F)\n",
        "    # Estimate validation loss function\n",
        "    val_loss.append(np.mean(squared_error(y_validation, np.squeeze(val_units[-1]))))\n",
        "    \n",
        "    if e%500==0:\n",
        "      print(\"{:4d}\".format(e),\n",
        "            \"({:5.2f}%)\".format(e/EPOCHS*100), \n",
        "            \"Train loss: {:4.3f} \\t Validation loss: {:4.3f}\".format(train_loss[-1], val_loss[-1]))\n",
        "        \n",
        "  return (train_loss, val_loss)"
      ],
      "execution_count": 68,
      "outputs": []
    },
    {
      "cell_type": "code",
      "metadata": {
        "id": "-tQXAXljmbdr",
        "colab_type": "code",
        "colab": {}
      },
      "source": [
        "def plot_train_and_val_loss(train_loss, val_loss):\n",
        "  plt.plot(range(len(train_loss)), train_loss, label='train')\n",
        "  plt.plot(range(len(val_loss)), val_loss, label='validation')\n",
        "  plt.legend();\n",
        "  plt.show();"
      ],
      "execution_count": 69,
      "outputs": []
    },
    {
      "cell_type": "markdown",
      "metadata": {
        "id": "TUS4GpVLmbdt",
        "colab_type": "text"
      },
      "source": [
        "# Testing\n",
        "\n",
        "We have kept the calculation of the test error separate in order to emphasize that you should not use the test set in optimization."
      ]
    },
    {
      "cell_type": "code",
      "metadata": {
        "id": "v4iQut9cmbdv",
        "colab_type": "code",
        "colab": {}
      },
      "source": [
        "def testing(x_test, y_test, NN, ACT_F):\n",
        "  _, units = forward_pass(x_test, NN, ACT_F)\n",
        "\n",
        "  plt.scatter(y_test, units[-1]);\n",
        "  plt.plot([np.min(y_test), np.max(y_test)], [np.min(y_test), np.max(y_test)], color='k');\n",
        "  plt.xlabel(\"y\");\n",
        "  plt.ylabel(\"$\\hat{y}$\");\n",
        "  plt.title(\"Model prediction vs real in the test set, the close to the line the better\")\n",
        "  plt.grid(True);\n",
        "  plt.axis('equal');\n",
        "  plt.tight_layout();\n",
        "  plt.show();\n",
        "\n",
        "  print(\"Test loss:  {:4.3f}\".format(np.mean(squared_error(y_test, np.squeeze(units[-1])))))\n",
        "\n",
        "  return units"
      ],
      "execution_count": 70,
      "outputs": []
    },
    {
      "cell_type": "code",
      "metadata": {
        "id": "WmdgxKHombdy",
        "colab_type": "code",
        "colab": {}
      },
      "source": [
        "def plot_data_and_predictions(x_train, y_train, x_test, y_test, units):\n",
        "  if D1:\n",
        "    plt.scatter(x_train[:,0], y_train, label=\"train data\");\n",
        "    plt.scatter(x_test[:,0], units[-1], label=\"test prediction\");\n",
        "    plt.scatter(x_test[:,0], y_test, label=\"test data\");\n",
        "    plt.legend();\n",
        "    plt.xlabel(\"x\");\n",
        "    plt.ylabel(\"y\");\n",
        "  else:\n",
        "    plt.scatter(x_train[:,1], y_train, label=\"train data\");\n",
        "    plt.scatter(x_test[:,1], units[-1], label=\"test data prediction\");\n",
        "    plt.scatter(x_test[:,1], y_test, label=\"test data\");\n",
        "    plt.legend();\n",
        "    plt.xlabel(\"x\");\n",
        "    plt.ylabel(\"y\");\n",
        "  plt.show();"
      ],
      "execution_count": 71,
      "outputs": []
    },
    {
      "cell_type": "markdown",
      "metadata": {
        "id": "zMCN2vhYmbd0",
        "colab_type": "text"
      },
      "source": [
        "## Exercise g) Show overfitting, underfitting and just right fitting\n",
        "\n",
        "Vary the architecture and other things to show clear signs of overfitting (=training loss significantly lower than test loss) and underfitting (=not fitting enoung to training data so that test performance is also hurt).\n",
        "\n",
        "See also if you can get a good compromise which leads to a low validation loss. \n",
        "\n",
        "For this problem do you see any big difference between validation and test loss? The answer here will probably be no. Discuss cases where it is important to keep the two separate.\n",
        "\n",
        "**Answer:** There isn't indeed a big difference between validation and test loss. This difference could occur during overfitting. More importantly, we can see whether we've overfit to the validation set too much with the design decisions that we applied on our neural network. If that is the case, we should consider getting a fresh validation set.\n"
      ]
    },
    {
      "cell_type": "code",
      "metadata": {
        "id": "RDWodpN5mbd1",
        "colab_type": "code",
        "colab": {
          "base_uri": "https://localhost:8080/",
          "height": 1000
        },
        "outputId": "8fbaa4b4-1609-4e9d-d240-a914e76d3373"
      },
      "source": [
        "np.random.seed(42)\n",
        "\n",
        "# overfitting\n",
        "print(\"OVERFITTING\")\n",
        "# Generating dataset with small amount of samples which reliably introduces overfitting\n",
        "x_train, y_train, x_validation, y_validation, x_test, y_test = data_generator(noise=10, n_samples=30)\n",
        "\n",
        "L  = [3, 16, 1]\n",
        "ACT_F = [Tanh, Linear] \n",
        "NN = init_NN_all(L, ACT_F)\n",
        "LEARN_R = 1e-1\n",
        "EPOCHS = 30000 # enough epochs to get \"good\" overfit\n",
        "\n",
        "train_loss, val_loss = train_NN()\n",
        "plot_train_and_val_loss(train_loss, val_loss)\n",
        "units = testing(x_test, y_test, NN, ACT_F)\n",
        "plot_data_and_predictions(x_train, y_train, x_test, y_test, units)\n",
        "\n",
        "# underfitting\n",
        "print(\"UNDERFITTING\")\n",
        "x_train, y_train, x_validation, y_validation, x_test, y_test = data_generator(noise=0.5) # original dataset from above\n",
        "L  = [1, 3, 1] # very small network\n",
        "ACT_F = [ReLU, Linear] \n",
        "NN = init_NN_all(L, ACT_F)\n",
        "LEARN_R = 1e-5\n",
        "EPOCHS = 10000\n",
        "\n",
        "train_loss, val_loss = train_NN()\n",
        "plot_train_and_val_loss(train_loss, val_loss)\n",
        "units = testing(x_test, y_test, NN, ACT_F)\n",
        "plot_data_and_predictions(x_train, y_train, x_test, y_test, units)\n",
        "\n",
        "# just right\n",
        "print(\"JUST RIGHT\")\n",
        "L  = [1, 8, 1] # Original\n",
        "ACT_F = [ReLU, Linear] \n",
        "NN = init_NN_all(L, ACT_F)\n",
        "LEARN_R = 5e-2\n",
        "EPOCHS = 10000\n",
        "\n",
        "train_loss, val_loss = train_NN()\n",
        "plot_train_and_val_loss(train_loss, val_loss)\n",
        "units = testing(x_test, y_test, NN, ACT_F)\n",
        "plot_data_and_predictions(x_train, y_train, x_test, y_test, units)"
      ],
      "execution_count": 72,
      "outputs": [
        {
          "output_type": "stream",
          "text": [
            "OVERFITTING\n",
            "   0 ( 0.00%) Train loss: 0.521 \t Validation loss: 0.192\n",
            " 500 ( 1.67%) Train loss: 0.154 \t Validation loss: 0.305\n",
            "1000 ( 3.33%) Train loss: 0.150 \t Validation loss: 0.312\n",
            "1500 ( 5.00%) Train loss: 0.146 \t Validation loss: 0.327\n",
            "2000 ( 6.67%) Train loss: 0.146 \t Validation loss: 0.328\n",
            "2500 ( 8.33%) Train loss: 0.144 \t Validation loss: 0.321\n",
            "3000 (10.00%) Train loss: 0.145 \t Validation loss: 0.327\n",
            "3500 (11.67%) Train loss: 0.145 \t Validation loss: 0.324\n",
            "4000 (13.33%) Train loss: 0.141 \t Validation loss: 0.320\n",
            "4500 (15.00%) Train loss: 0.140 \t Validation loss: 0.320\n",
            "5000 (16.67%) Train loss: 0.138 \t Validation loss: 0.314\n",
            "5500 (18.33%) Train loss: 0.140 \t Validation loss: 0.323\n",
            "6000 (20.00%) Train loss: 0.137 \t Validation loss: 0.322\n",
            "6500 (21.67%) Train loss: 0.130 \t Validation loss: 0.316\n",
            "7000 (23.33%) Train loss: 0.126 \t Validation loss: 0.319\n",
            "7500 (25.00%) Train loss: 0.133 \t Validation loss: 0.315\n",
            "8000 (26.67%) Train loss: 0.115 \t Validation loss: 0.315\n",
            "8500 (28.33%) Train loss: 0.110 \t Validation loss: 0.323\n",
            "9000 (30.00%) Train loss: 0.102 \t Validation loss: 0.328\n",
            "9500 (31.67%) Train loss: 0.092 \t Validation loss: 0.332\n",
            "10000 (33.33%) Train loss: 0.085 \t Validation loss: 0.333\n",
            "10500 (35.00%) Train loss: 0.077 \t Validation loss: 0.339\n",
            "11000 (36.67%) Train loss: 0.070 \t Validation loss: 0.337\n",
            "11500 (38.33%) Train loss: 0.084 \t Validation loss: 0.324\n",
            "12000 (40.00%) Train loss: 0.060 \t Validation loss: 0.317\n",
            "12500 (41.67%) Train loss: 0.060 \t Validation loss: 0.311\n",
            "13000 (43.33%) Train loss: 0.051 \t Validation loss: 0.312\n",
            "13500 (45.00%) Train loss: 0.089 \t Validation loss: 0.307\n",
            "14000 (46.67%) Train loss: 0.042 \t Validation loss: 0.313\n",
            "14500 (48.33%) Train loss: 0.054 \t Validation loss: 0.311\n",
            "15000 (50.00%) Train loss: 0.034 \t Validation loss: 0.327\n",
            "15500 (51.67%) Train loss: 0.040 \t Validation loss: 0.341\n",
            "16000 (53.33%) Train loss: 0.034 \t Validation loss: 0.384\n",
            "16500 (55.00%) Train loss: 0.041 \t Validation loss: 0.415\n",
            "17000 (56.67%) Train loss: 0.022 \t Validation loss: 0.444\n",
            "17500 (58.33%) Train loss: 0.020 \t Validation loss: 0.466\n",
            "18000 (60.00%) Train loss: 0.019 \t Validation loss: 0.502\n",
            "18500 (61.67%) Train loss: 0.017 \t Validation loss: 0.512\n",
            "19000 (63.33%) Train loss: 0.017 \t Validation loss: 0.536\n",
            "19500 (65.00%) Train loss: 0.016 \t Validation loss: 0.560\n",
            "20000 (66.67%) Train loss: 0.015 \t Validation loss: 0.581\n",
            "20500 (68.33%) Train loss: 0.015 \t Validation loss: 0.582\n",
            "21000 (70.00%) Train loss: 0.014 \t Validation loss: 0.605\n",
            "21500 (71.67%) Train loss: 0.031 \t Validation loss: 0.631\n",
            "22000 (73.33%) Train loss: 0.035 \t Validation loss: 0.615\n",
            "22500 (75.00%) Train loss: 0.012 \t Validation loss: 0.637\n",
            "23000 (76.67%) Train loss: 0.013 \t Validation loss: 0.664\n",
            "23500 (78.33%) Train loss: 0.011 \t Validation loss: 0.669\n",
            "24000 (80.00%) Train loss: 0.010 \t Validation loss: 0.694\n",
            "24500 (81.67%) Train loss: 0.009 \t Validation loss: 0.695\n",
            "25000 (83.33%) Train loss: 0.007 \t Validation loss: 0.723\n",
            "25500 (85.00%) Train loss: 0.008 \t Validation loss: 0.733\n",
            "26000 (86.67%) Train loss: 0.005 \t Validation loss: 0.755\n",
            "26500 (88.33%) Train loss: 0.005 \t Validation loss: 0.770\n",
            "27000 (90.00%) Train loss: 0.004 \t Validation loss: 0.796\n",
            "27500 (91.67%) Train loss: 0.003 \t Validation loss: 0.824\n",
            "28000 (93.33%) Train loss: 0.003 \t Validation loss: 0.839\n",
            "28500 (95.00%) Train loss: 0.002 \t Validation loss: 0.851\n",
            "29000 (96.67%) Train loss: 0.002 \t Validation loss: 0.874\n",
            "29500 (98.33%) Train loss: 0.001 \t Validation loss: 0.887\n"
          ],
          "name": "stdout"
        },
        {
          "output_type": "display_data",
          "data": {
            "image/png": "[encoded data removed]",
            "text/plain": [
              "<Figure size 432x288 with 1 Axes>"
            ]
          },
          "metadata": {
            "tags": [],
            "needs_background": "light"
          }
        },
        {
          "output_type": "display_data",
          "data": {
            "image/png": "[encoded data removed]",
            "text/plain": [
              "<Figure size 432x288 with 1 Axes>"
            ]
          },
          "metadata": {
            "tags": [],
            "needs_background": "light"
          }
        },
        {
          "output_type": "stream",
          "text": [
            "Test loss:  4.028\n"
          ],
          "name": "stdout"
        },
        {
          "output_type": "display_data",
          "data": {
            "image/png": "[encoded data removed]",
            "text/plain": [
              "<Figure size 432x288 with 1 Axes>"
            ]
          },
          "metadata": {
            "tags": [],
            "needs_background": "light"
          }
        },
        {
          "output_type": "stream",
          "text": [
            "UNDERFITTING\n",
            "   0 ( 0.00%) Train loss: 0.550 \t Validation loss: 0.458\n",
            " 500 ( 5.00%) Train loss: 0.545 \t Validation loss: 0.452\n",
            "1000 (10.00%) Train loss: 0.539 \t Validation loss: 0.446\n",
            "1500 (15.00%) Train loss: 0.534 \t Validation loss: 0.441\n",
            "2000 (20.00%) Train loss: 0.529 \t Validation loss: 0.435\n",
            "2500 (25.00%) Train loss: 0.524 \t Validation loss: 0.430\n",
            "3000 (30.00%) Train loss: 0.519 \t Validation loss: 0.424\n",
            "3500 (35.00%) Train loss: 0.514 \t Validation loss: 0.419\n",
            "4000 (40.00%) Train loss: 0.509 \t Validation loss: 0.414\n",
            "4500 (45.00%) Train loss: 0.504 \t Validation loss: 0.409\n",
            "5000 (50.00%) Train loss: 0.500 \t Validation loss: 0.405\n",
            "5500 (55.00%) Train loss: 0.495 \t Validation loss: 0.400\n",
            "6000 (60.00%) Train loss: 0.491 \t Validation loss: 0.395\n",
            "6500 (65.00%) Train loss: 0.486 \t Validation loss: 0.391\n",
            "7000 (70.00%) Train loss: 0.482 \t Validation loss: 0.386\n",
            "7500 (75.00%) Train loss: 0.478 \t Validation loss: 0.382\n",
            "8000 (80.00%) Train loss: 0.474 \t Validation loss: 0.378\n",
            "8500 (85.00%) Train loss: 0.470 \t Validation loss: 0.373\n",
            "9000 (90.00%) Train loss: 0.466 \t Validation loss: 0.369\n",
            "9500 (95.00%) Train loss: 0.462 \t Validation loss: 0.365\n"
          ],
          "name": "stdout"
        },
        {
          "output_type": "display_data",
          "data": {
            "image/png": "[encoded data removed]",
            "text/plain": [
              "<Figure size 432x288 with 1 Axes>"
            ]
          },
          "metadata": {
            "tags": [],
            "needs_background": "light"
          }
        },
        {
          "output_type": "display_data",
          "data": {
            "image/png": "[encoded data removed]",
            "text/plain": [
              "<Figure size 432x288 with 1 Axes>"
            ]
          },
          "metadata": {
            "tags": [],
            "needs_background": "light"
          }
        },
        {
          "output_type": "stream",
          "text": [
            "Test loss:  0.481\n"
          ],
          "name": "stdout"
        },
        {
          "output_type": "display_data",
          "data": {
            "image/png": "[encoded data removed]",
            "text/plain": [
              "<Figure size 432x288 with 1 Axes>"
            ]
          },
          "metadata": {
            "tags": [],
            "needs_background": "light"
          }
        },
        {
          "output_type": "stream",
          "text": [
            "JUST RIGHT\n",
            "   0 ( 0.00%) Train loss: 1.621 \t Validation loss: 1.738\n",
            " 500 ( 5.00%) Train loss: 0.036 \t Validation loss: 0.048\n",
            "1000 (10.00%) Train loss: 0.034 \t Validation loss: 0.047\n",
            "1500 (15.00%) Train loss: 0.032 \t Validation loss: 0.047\n",
            "2000 (20.00%) Train loss: 0.031 \t Validation loss: 0.047\n",
            "2500 (25.00%) Train loss: 0.031 \t Validation loss: 0.048\n",
            "3000 (30.00%) Train loss: 0.030 \t Validation loss: 0.047\n",
            "3500 (35.00%) Train loss: 0.031 \t Validation loss: 0.044\n",
            "4000 (40.00%) Train loss: 0.030 \t Validation loss: 0.044\n",
            "4500 (45.00%) Train loss: 0.030 \t Validation loss: 0.047\n",
            "5000 (50.00%) Train loss: 0.029 \t Validation loss: 0.044\n",
            "5500 (55.00%) Train loss: 0.029 \t Validation loss: 0.045\n",
            "6000 (60.00%) Train loss: 0.029 \t Validation loss: 0.045\n",
            "6500 (65.00%) Train loss: 0.029 \t Validation loss: 0.044\n",
            "7000 (70.00%) Train loss: 0.029 \t Validation loss: 0.043\n",
            "7500 (75.00%) Train loss: 0.029 \t Validation loss: 0.044\n",
            "8000 (80.00%) Train loss: 0.029 \t Validation loss: 0.044\n",
            "8500 (85.00%) Train loss: 0.029 \t Validation loss: 0.044\n",
            "9000 (90.00%) Train loss: 0.029 \t Validation loss: 0.044\n",
            "9500 (95.00%) Train loss: 0.029 \t Validation loss: 0.045\n"
          ],
          "name": "stdout"
        },
        {
          "output_type": "display_data",
          "data": {
            "image/png": "[encoded data removed]",
            "text/plain": [
              "<Figure size 432x288 with 1 Axes>"
            ]
          },
          "metadata": {
            "tags": [],
            "needs_background": "light"
          }
        },
        {
          "output_type": "display_data",
          "data": {
            "image/png": "[encoded data removed]",
            "text/plain": [
              "<Figure size 432x288 with 1 Axes>"
            ]
          },
          "metadata": {
            "tags": [],
            "needs_background": "light"
          }
        },
        {
          "output_type": "stream",
          "text": [
            "Test loss:  0.039\n"
          ],
          "name": "stdout"
        },
        {
          "output_type": "display_data",
          "data": {
            "image/png": "[encoded data removed]",
            "text/plain": [
              "<Figure size 432x288 with 1 Axes>"
            ]
          },
          "metadata": {
            "tags": [],
            "needs_background": "light"
          }
        }
      ]
    },
    {
      "cell_type": "markdown",
      "metadata": {
        "id": "mOgKFGRFmbd4",
        "colab_type": "text"
      },
      "source": [
        "# Next steps - classification\n",
        "\n",
        "It is straight forward to extend what we have done to classification. \n",
        "\n",
        "For numerical stability it is better to make softmax and cross-entropy as one function so we write the cross entropy loss as a function of the logits we talked about last week. \n",
        "\n",
        "Next week we will see how to perform classification in PyTorch."
      ]
    },
    {
      "cell_type": "markdown",
      "metadata": {
        "id": "_P_REYHzmbd4",
        "colab_type": "text"
      },
      "source": [
        "## Exercise h) optional - Implement backpropagation for classification\n",
        "\n",
        "Should be possible with very few lines of code. :-)"
      ]
    },
    {
      "cell_type": "code",
      "metadata": {
        "id": "sRYJBk3fmbd5",
        "colab_type": "code",
        "colab": {}
      },
      "source": [
        "# Just add code."
      ],
      "execution_count": null,
      "outputs": []
    }
  ]
}