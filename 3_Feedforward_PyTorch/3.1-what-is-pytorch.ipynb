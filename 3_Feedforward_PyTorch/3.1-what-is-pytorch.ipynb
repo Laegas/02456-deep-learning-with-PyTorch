{
  "nbformat": 4,
  "nbformat_minor": 0,
  "metadata": {
    "kernelspec": {
      "display_name": "Python 3",
      "language": "python",
      "name": "python3"
    },
    "language_info": {
      "codemirror_mode": {
        "name": "ipython",
        "version": 3
      },
      "file_extension": ".py",
      "mimetype": "text/x-python",
      "name": "python",
      "nbconvert_exporter": "python",
      "pygments_lexer": "ipython3",
      "version": "3.7.2"
    },
    "colab": {
      "name": "3.1-what-is-pytorch.ipynb",
      "provenance": []
    },
    "accelerator": "GPU"
  },
  "cells": [
    {
      "cell_type": "markdown",
      "metadata": {
        "id": "YJi7tsnsqP8U",
        "colab_type": "text"
      },
      "source": [
        "# Credits\n",
        "\n",
        "This is heavily influenced or copied from https://github.com/pytorch/tutorials"
      ]
    },
    {
      "cell_type": "markdown",
      "metadata": {
        "id": "wPaTu2XRqP8W",
        "colab_type": "text"
      },
      "source": [
        "# What is PyTorch?\n",
        "\n",
        "> **NOTE** In the last part of this lab cuda is used. If you have a cuda enabled machine, read the README.md in the root of this repo on how to use nvidia-docker.\n",
        "\n",
        "\n",
        "It’s a Python based scientific computing package targeted at two sets of\n",
        "audiences:\n",
        "-  A replacement for numpy to use the power of GPUs\n",
        "-  a deep learning research platform that provides maximum flexibility\n",
        "   and speed\n"
      ]
    },
    {
      "cell_type": "markdown",
      "metadata": {
        "id": "rHHokV__qP8X",
        "colab_type": "text"
      },
      "source": [
        "# Getting Started\n",
        "\n",
        "In this lab you will get a quick start on what pytorch is and how to use it.\n",
        "\n",
        "## 1. Tensors\n",
        "\n",
        "Tensors are similar to numpy’s ndarrays, with the addition being that\n",
        "Tensors can also be used on a GPU to accelerate computing."
      ]
    },
    {
      "cell_type": "code",
      "metadata": {
        "id": "IPfWKbDoqP8Y",
        "colab_type": "code",
        "colab": {}
      },
      "source": [
        "import torch"
      ],
      "execution_count": 4,
      "outputs": []
    },
    {
      "cell_type": "markdown",
      "metadata": {
        "id": "0b1LgnOxqP8b",
        "colab_type": "text"
      },
      "source": [
        "Construct a 5x3 matrix, uninitialized"
      ]
    },
    {
      "cell_type": "code",
      "metadata": {
        "scrolled": false,
        "id": "XpyQSRi4qP8c",
        "colab_type": "code",
        "colab": {
          "base_uri": "https://localhost:8080/",
          "height": 104
        },
        "outputId": "5efe065a-8f54-4713-aea9-1991a90d767e"
      },
      "source": [
        "x = torch.Tensor(5, 3)\n",
        "print(x)"
      ],
      "execution_count": 5,
      "outputs": [
        {
          "output_type": "stream",
          "text": [
            "tensor([[3.4511e-35, 0.0000e+00, 3.7835e-44],\n",
            "        [0.0000e+00,        nan, 4.4842e-44],\n",
            "        [1.3733e-14, 6.4069e+02, 4.3066e+21],\n",
            "        [1.1824e+22, 4.3066e+21, 6.3828e+28],\n",
            "        [3.8016e-39, 8.1546e-33, 1.3563e-19]])\n"
          ],
          "name": "stdout"
        }
      ]
    },
    {
      "cell_type": "markdown",
      "metadata": {
        "id": "_sE1UBNPqP8f",
        "colab_type": "text"
      },
      "source": [
        "Construct a randomly initialized matrix"
      ]
    },
    {
      "cell_type": "code",
      "metadata": {
        "id": "fKB4b2jtqP8h",
        "colab_type": "code",
        "colab": {
          "base_uri": "https://localhost:8080/",
          "height": 104
        },
        "outputId": "2ad9047f-744d-4197-9d49-eec5ad27adae"
      },
      "source": [
        "x = torch.rand(5, 3)\n",
        "print(x)"
      ],
      "execution_count": 6,
      "outputs": [
        {
          "output_type": "stream",
          "text": [
            "tensor([[0.3671, 0.2038, 0.9529],\n",
            "        [0.4903, 0.5220, 0.3474],\n",
            "        [0.9639, 0.2176, 0.8205],\n",
            "        [0.7310, 0.4602, 0.1101],\n",
            "        [0.7114, 0.6619, 0.4041]])\n"
          ],
          "name": "stdout"
        }
      ]
    },
    {
      "cell_type": "markdown",
      "metadata": {
        "id": "KWKX0BhNqP8l",
        "colab_type": "text"
      },
      "source": [
        "Get its size"
      ]
    },
    {
      "cell_type": "code",
      "metadata": {
        "id": "HM5WFypMqP8m",
        "colab_type": "code",
        "colab": {
          "base_uri": "https://localhost:8080/",
          "height": 35
        },
        "outputId": "05cdc6c0-4d60-4a4b-df0b-4b0d2a0ba616"
      },
      "source": [
        "print(x.size())"
      ],
      "execution_count": 7,
      "outputs": [
        {
          "output_type": "stream",
          "text": [
            "torch.Size([5, 3])\n"
          ],
          "name": "stdout"
        }
      ]
    },
    {
      "cell_type": "markdown",
      "metadata": {
        "id": "SWboHkb6qP8p",
        "colab_type": "text"
      },
      "source": [
        "**NOTE** `torch.Size` is in fact a tuple, so it supports the same operations"
      ]
    },
    {
      "cell_type": "code",
      "metadata": {
        "id": "hUvY5LjIqP8q",
        "colab_type": "code",
        "colab": {
          "base_uri": "https://localhost:8080/",
          "height": 104
        },
        "outputId": "3cc357be-5d79-4d32-8e3e-46c297c5f45f"
      },
      "source": [
        "x[1:3] = 2\n",
        "print(x)"
      ],
      "execution_count": 8,
      "outputs": [
        {
          "output_type": "stream",
          "text": [
            "tensor([[0.3671, 0.2038, 0.9529],\n",
            "        [2.0000, 2.0000, 2.0000],\n",
            "        [2.0000, 2.0000, 2.0000],\n",
            "        [0.7310, 0.4602, 0.1101],\n",
            "        [0.7114, 0.6619, 0.4041]])\n"
          ],
          "name": "stdout"
        }
      ]
    },
    {
      "cell_type": "markdown",
      "metadata": {
        "id": "pN-PfrXeqP8s",
        "colab_type": "text"
      },
      "source": [
        "# Assignment\n",
        "\n",
        "Make use of the pytorch docs <http://pytorch.org/docs/torch>\n",
        "1. Make a tensor of size (2, 17)\n",
        "2. Make a torch.FloatTensor of size (3, 1)\n",
        "3. Make a torch.LongTensor of size (5, 2, 1)\n",
        "  - fill the entire tensor with 7s\n",
        "4. Make a torch.ByteTensor of size (5,)\n",
        "  - fill the middle 3 indices with ones such that it records [0, 1, 1, 1, 0]"
      ]
    },
    {
      "cell_type": "code",
      "metadata": {
        "id": "-0JtSP9KwReB",
        "colab_type": "code",
        "colab": {
          "base_uri": "https://localhost:8080/",
          "height": 607
        },
        "outputId": "6ccfc398-2b22-4f91-a5a9-145979761808"
      },
      "source": [
        "# 1. tensor of size (2,17)\n",
        "tensor = torch.Tensor(2,17)\n",
        "print(\"#1\", tensor.size())\n",
        "\n",
        "# 2. torch.FloatTensor of size (3,1)\n",
        "tensor = torch.FloatTensor(3,1)\n",
        "print(\"#2\", tensor.size())\n",
        "\n",
        "# 3. torch.LongTensor of size (5,2,1)\n",
        "tensor = torch.LongTensor(5,2,1)\n",
        "print(\"#3\", tensor.size())\n",
        "print(tensor)\n",
        "# fill the entire tensor with 7s\n",
        "tensor[:,:,:] = 7\n",
        "print(tensor)\n",
        "\n",
        "# 4. torch.ByteTensor of size (5,)\n",
        "tensor = torch.ByteTensor(5,)\n",
        "print(\"#4\", tensor.size())\n",
        "print(tensor)\n",
        "# fill the middle 3 indices with ones such that it records [0, 1, 1, 1, 0]\n",
        "tensor[1:4] = 1\n",
        "print(tensor)\n"
      ],
      "execution_count": 9,
      "outputs": [
        {
          "output_type": "stream",
          "text": [
            "#1 torch.Size([2, 17])\n",
            "#2 torch.Size([3, 1])\n",
            "#3 torch.Size([5, 2, 1])\n",
            "tensor([[[   104220416],\n",
            "         [206158430258]],\n",
            "\n",
            "        [[206158430253],\n",
            "         [193273528377]],\n",
            "\n",
            "        [[223338299441],\n",
            "         [210453397588]],\n",
            "\n",
            "        [[249108103219],\n",
            "         [206158430260]],\n",
            "\n",
            "        [[210453397562],\n",
            "         [197568495667]]])\n",
            "tensor([[[7],\n",
            "         [7]],\n",
            "\n",
            "        [[7],\n",
            "         [7]],\n",
            "\n",
            "        [[7],\n",
            "         [7]],\n",
            "\n",
            "        [[7],\n",
            "         [7]],\n",
            "\n",
            "        [[7],\n",
            "         [7]]])\n",
            "#4 torch.Size([5])\n",
            "tensor([  0, 126,  55,   6,   0], dtype=torch.uint8)\n",
            "tensor([0, 1, 1, 1, 0], dtype=torch.uint8)\n"
          ],
          "name": "stdout"
        }
      ]
    },
    {
      "cell_type": "markdown",
      "metadata": {
        "id": "50Nz0rctqP8t",
        "colab_type": "text"
      },
      "source": [
        "## 2. Operations\n",
        "There are multiple syntaxes for operations. Let's see addition as an example:\n",
        "\n",
        "### 2.1 Addition: syntax 1"
      ]
    },
    {
      "cell_type": "code",
      "metadata": {
        "id": "EV7wnPKfqP8t",
        "colab_type": "code",
        "colab": {
          "base_uri": "https://localhost:8080/",
          "height": 104
        },
        "outputId": "12d546b6-96a5-44b8-c25f-683155b0c0ab"
      },
      "source": [
        "y = torch.rand(5, 3)\n",
        "print(x + y)"
      ],
      "execution_count": 10,
      "outputs": [
        {
          "output_type": "stream",
          "text": [
            "tensor([[1.2305, 0.2635, 1.3761],\n",
            "        [2.5028, 2.5895, 2.0852],\n",
            "        [2.2465, 2.3120, 2.0770],\n",
            "        [0.9044, 0.5715, 0.6899],\n",
            "        [0.7530, 0.6929, 1.3752]])\n"
          ],
          "name": "stdout"
        }
      ]
    },
    {
      "cell_type": "markdown",
      "metadata": {
        "id": "qV-gaQVAqP8x",
        "colab_type": "text"
      },
      "source": [
        "### 2.2 Addition: syntax 2"
      ]
    },
    {
      "cell_type": "code",
      "metadata": {
        "id": "LJa7Mhr2qP8y",
        "colab_type": "code",
        "colab": {
          "base_uri": "https://localhost:8080/",
          "height": 104
        },
        "outputId": "5dc033fc-3fa1-43c8-9f0f-38a8c25193a4"
      },
      "source": [
        "print(torch.add(x, y))"
      ],
      "execution_count": 11,
      "outputs": [
        {
          "output_type": "stream",
          "text": [
            "tensor([[1.2305, 0.2635, 1.3761],\n",
            "        [2.5028, 2.5895, 2.0852],\n",
            "        [2.2465, 2.3120, 2.0770],\n",
            "        [0.9044, 0.5715, 0.6899],\n",
            "        [0.7530, 0.6929, 1.3752]])\n"
          ],
          "name": "stdout"
        }
      ]
    },
    {
      "cell_type": "markdown",
      "metadata": {
        "id": "zuqw-A9QqP81",
        "colab_type": "text"
      },
      "source": [
        "### 2.3 Addition: giving an output tensor"
      ]
    },
    {
      "cell_type": "code",
      "metadata": {
        "id": "8em9DBdyqP81",
        "colab_type": "code",
        "colab": {
          "base_uri": "https://localhost:8080/",
          "height": 104
        },
        "outputId": "e848fc79-5a96-44d7-e252-0ecc36187ec1"
      },
      "source": [
        "result = torch.Tensor(5, 3)\n",
        "torch.add(x, y, out=result)\n",
        "print(result)"
      ],
      "execution_count": 12,
      "outputs": [
        {
          "output_type": "stream",
          "text": [
            "tensor([[1.2305, 0.2635, 1.3761],\n",
            "        [2.5028, 2.5895, 2.0852],\n",
            "        [2.2465, 2.3120, 2.0770],\n",
            "        [0.9044, 0.5715, 0.6899],\n",
            "        [0.7530, 0.6929, 1.3752]])\n"
          ],
          "name": "stdout"
        }
      ]
    },
    {
      "cell_type": "markdown",
      "metadata": {
        "id": "gJOi8yjBqP83",
        "colab_type": "text"
      },
      "source": [
        "### 2.4 Addition: in-place\n",
        "\n",
        "adds `x`to `y`"
      ]
    },
    {
      "cell_type": "code",
      "metadata": {
        "id": "DWh6wxWkqP84",
        "colab_type": "code",
        "colab": {
          "base_uri": "https://localhost:8080/",
          "height": 104
        },
        "outputId": "c484fc8f-8254-4c50-a418-1fa1aa707d3c"
      },
      "source": [
        "y.add_(x)\n",
        "print(y)"
      ],
      "execution_count": 13,
      "outputs": [
        {
          "output_type": "stream",
          "text": [
            "tensor([[1.2305, 0.2635, 1.3761],\n",
            "        [2.5028, 2.5895, 2.0852],\n",
            "        [2.2465, 2.3120, 2.0770],\n",
            "        [0.9044, 0.5715, 0.6899],\n",
            "        [0.7530, 0.6929, 1.3752]])\n"
          ],
          "name": "stdout"
        }
      ]
    },
    {
      "cell_type": "markdown",
      "metadata": {
        "id": "ZaAkO60HqP87",
        "colab_type": "text"
      },
      "source": [
        "**NOTE** Any operation that mutates a tensor in-place is post-fixed with an `_`. For example: `x.copy_(y)`, `x.t_()`, will change `x`."
      ]
    },
    {
      "cell_type": "markdown",
      "metadata": {
        "id": "vrSc92WFqP87",
        "colab_type": "text"
      },
      "source": [
        "You can use standard numpy-like indexing with all bells and whistles!"
      ]
    },
    {
      "cell_type": "code",
      "metadata": {
        "id": "7QkiXOPfqP88",
        "colab_type": "code",
        "colab": {
          "base_uri": "https://localhost:8080/",
          "height": 35
        },
        "outputId": "24c3ba95-c3d9-4173-faf1-c1378823f6ec"
      },
      "source": [
        "print(x[:, 1])"
      ],
      "execution_count": 14,
      "outputs": [
        {
          "output_type": "stream",
          "text": [
            "tensor([0.2038, 2.0000, 2.0000, 0.4602, 0.6619])\n"
          ],
          "name": "stdout"
        }
      ]
    },
    {
      "cell_type": "markdown",
      "metadata": {
        "id": "_RzWdNdfqP8-",
        "colab_type": "text"
      },
      "source": [
        "**Read later** 100+ Tensor operations, including transposing, indexing, slicing, mathematical operations, linear algebra, random numbers, etc are described here <http://pytorch.org/docs/torch>"
      ]
    },
    {
      "cell_type": "markdown",
      "metadata": {
        "id": "X3WTknIzqP8_",
        "colab_type": "text"
      },
      "source": [
        "# Assignment\n",
        "\n",
        "1. multiplication of two tensors (see [torch.Tensor.mul](http://pytorch.org/docs/master/tensors.html#torch.Tensor.mul))\n",
        "2. do the same, but inplace\n",
        "3. division of two tensors (see [torch.Tensor.div](http://pytorch.org/docs/master/tensors.html#torch.Tensor.div))\n",
        "4. perform a matrix multiplication of two tensors of size (2, 4) and (4, 2)"
      ]
    },
    {
      "cell_type": "code",
      "metadata": {
        "id": "5-z48eAPy_7h",
        "colab_type": "code",
        "colab": {
          "base_uri": "https://localhost:8080/",
          "height": 312
        },
        "outputId": "7682bef0-5687-4187-b1ad-e1048720ae18"
      },
      "source": [
        "# 1. multiplication of two tensors\n",
        "print(torch.mul(x, y))\n",
        "\n",
        "# 2. do the same, but inplace\n",
        "x_copy = x\n",
        "print(x_copy.mul_(y))\n",
        "\n",
        "# 3. division of two tensors\n",
        "print(torch.div(x, y))\n",
        "\n",
        "# 4. perform a matrix multiplication of two tensors of size (2, 4) and (4, 2)\n",
        "print(torch.mm(torch.rand(2,4), torch.rand(4,2)))"
      ],
      "execution_count": 15,
      "outputs": [
        {
          "output_type": "stream",
          "text": [
            "tensor([[0.4517, 0.0537, 1.3113],\n",
            "        [5.0057, 5.1790, 4.1705],\n",
            "        [4.4931, 4.6241, 4.1539],\n",
            "        [0.6612, 0.2630, 0.0760],\n",
            "        [0.5357, 0.4587, 0.5557]])\n",
            "tensor([[0.4517, 0.0537, 1.3113],\n",
            "        [5.0057, 5.1790, 4.1705],\n",
            "        [4.4931, 4.6241, 4.1539],\n",
            "        [0.6612, 0.2630, 0.0760],\n",
            "        [0.5357, 0.4587, 0.5557]])\n",
            "tensor([[0.3671, 0.2038, 0.9529],\n",
            "        [2.0000, 2.0000, 2.0000],\n",
            "        [2.0000, 2.0000, 2.0000],\n",
            "        [0.7310, 0.4602, 0.1101],\n",
            "        [0.7114, 0.6619, 0.4041]])\n",
            "tensor([[0.6110, 0.5296],\n",
            "        [1.3869, 0.8074]])\n"
          ],
          "name": "stdout"
        }
      ]
    },
    {
      "cell_type": "markdown",
      "metadata": {
        "id": "daPWrBRYqP9A",
        "colab_type": "text"
      },
      "source": [
        "## 3. Numpy Bridge\n",
        "\n",
        "Converting a torch Tensor to a numpy array and vice versa is a breeze.\n",
        "\n",
        "The torch Tensor and numpy array will share their underlying memory locations, and changing one will change the other.\n",
        "\n",
        "### 3.1 Converting torch Tensor to numpy Array"
      ]
    },
    {
      "cell_type": "code",
      "metadata": {
        "id": "DVgpzg3tqP9A",
        "colab_type": "code",
        "colab": {
          "base_uri": "https://localhost:8080/",
          "height": 35
        },
        "outputId": "4e82a534-b4ee-48a7-9054-5aaa8753d975"
      },
      "source": [
        "a = torch.ones(5)\n",
        "print(a)"
      ],
      "execution_count": 16,
      "outputs": [
        {
          "output_type": "stream",
          "text": [
            "tensor([1., 1., 1., 1., 1.])\n"
          ],
          "name": "stdout"
        }
      ]
    },
    {
      "cell_type": "code",
      "metadata": {
        "id": "Qnm0qvMIqP9E",
        "colab_type": "code",
        "colab": {
          "base_uri": "https://localhost:8080/",
          "height": 35
        },
        "outputId": "2607506b-ed0d-4242-82b4-27c7ef70ff4f"
      },
      "source": [
        "b = a.numpy()\n",
        "print(b)"
      ],
      "execution_count": 17,
      "outputs": [
        {
          "output_type": "stream",
          "text": [
            "[1. 1. 1. 1. 1.]\n"
          ],
          "name": "stdout"
        }
      ]
    },
    {
      "cell_type": "markdown",
      "metadata": {
        "id": "tBqj80jYqP9H",
        "colab_type": "text"
      },
      "source": [
        "See how the numpy array changed in value."
      ]
    },
    {
      "cell_type": "code",
      "metadata": {
        "id": "EtzZhkOzqP9I",
        "colab_type": "code",
        "colab": {
          "base_uri": "https://localhost:8080/",
          "height": 52
        },
        "outputId": "9b1be04b-fa26-401e-f995-de05796155df"
      },
      "source": [
        "a.add_(1)\n",
        "print(a)\n",
        "print(b)"
      ],
      "execution_count": 18,
      "outputs": [
        {
          "output_type": "stream",
          "text": [
            "tensor([2., 2., 2., 2., 2.])\n",
            "[2. 2. 2. 2. 2.]\n"
          ],
          "name": "stdout"
        }
      ]
    },
    {
      "cell_type": "markdown",
      "metadata": {
        "id": "Y7XelfAVqP9K",
        "colab_type": "text"
      },
      "source": [
        "### 3.2 Converting numpy Array to torch Tensor\n",
        "\n",
        "See how changing the np array changed the torch Tensor automatically"
      ]
    },
    {
      "cell_type": "code",
      "metadata": {
        "id": "KDTZp-MhqP9K",
        "colab_type": "code",
        "colab": {
          "base_uri": "https://localhost:8080/",
          "height": 52
        },
        "outputId": "74b34e35-6201-42de-85f6-8f0c0ee2dc9f"
      },
      "source": [
        "import numpy as np\n",
        "a = np.ones(5)\n",
        "b = torch.from_numpy(a)\n",
        "np.add(a, 1, out=a)\n",
        "print(a)\n",
        "print(b)"
      ],
      "execution_count": 19,
      "outputs": [
        {
          "output_type": "stream",
          "text": [
            "[2. 2. 2. 2. 2.]\n",
            "tensor([2., 2., 2., 2., 2.], dtype=torch.float64)\n"
          ],
          "name": "stdout"
        }
      ]
    },
    {
      "cell_type": "markdown",
      "metadata": {
        "id": "eW1oGqRUqP9O",
        "colab_type": "text"
      },
      "source": [
        "# Assignment\n",
        "\n",
        "1. create a tensor of size (5, 2) containing ones\n",
        "2. now convert it to a numpy array\n",
        "3. now convert it back to a torch tensor"
      ]
    },
    {
      "cell_type": "code",
      "metadata": {
        "id": "iswdfOme1U3J",
        "colab_type": "code",
        "colab": {
          "base_uri": "https://localhost:8080/",
          "height": 277
        },
        "outputId": "d28580da-0dae-4940-d037-d16e42d39f34"
      },
      "source": [
        "# 1. create a tensor of size (5, 2) containing ones\n",
        "tensor = torch.ones(5,2)\n",
        "print(tensor)\n",
        "\n",
        "# 2. convert it to a numpy array\n",
        "np_array = tensor.numpy()\n",
        "print(np_array)\n",
        "\n",
        "# 3. convert it back to a torch tensor\n",
        "tensor = torch.from_numpy(np_array)\n",
        "print(tensor)"
      ],
      "execution_count": 20,
      "outputs": [
        {
          "output_type": "stream",
          "text": [
            "tensor([[1., 1.],\n",
            "        [1., 1.],\n",
            "        [1., 1.],\n",
            "        [1., 1.],\n",
            "        [1., 1.]])\n",
            "[[1. 1.]\n",
            " [1. 1.]\n",
            " [1. 1.]\n",
            " [1. 1.]\n",
            " [1. 1.]]\n",
            "tensor([[1., 1.],\n",
            "        [1., 1.],\n",
            "        [1., 1.],\n",
            "        [1., 1.],\n",
            "        [1., 1.]])\n"
          ],
          "name": "stdout"
        }
      ]
    },
    {
      "cell_type": "markdown",
      "metadata": {
        "id": "gD0oMYMPqP9O",
        "colab_type": "text"
      },
      "source": [
        "All the Tensors on the CPU except a CharTensor support converting to NumPy and back.\n",
        "\n",
        "## 4 CUDA Tensors\n",
        "\n",
        "Tensors can be moved onto GPU using the `.cuda` function.\n",
        "This is not necessary, but check the `README.md` for details on how to use a GPU with docker."
      ]
    },
    {
      "cell_type": "code",
      "metadata": {
        "id": "D0DSKJIBqP9Q",
        "colab_type": "code",
        "colab": {
          "base_uri": "https://localhost:8080/",
          "height": 277
        },
        "outputId": "d19f4d7f-a20b-44cd-8dbf-6a6fd68dce7a"
      },
      "source": [
        "# let us run this cell only if CUDA is available\n",
        "if torch.cuda.is_available():\n",
        "    x = x.cuda()\n",
        "    y = y.cuda()\n",
        "    z = x + y\n",
        "    # notice that the tensors are now of type torch.cuda.FloatTensor (notice the cuda in there)\n",
        "    # this is meant as a tensor to be run on the GPU.\n",
        "    # the .cuda() does this to any parameter it is applied to\n",
        "    print(x)\n",
        "    print(y)\n",
        "    print(z)\n",
        "else:\n",
        "    print(\"CUDA not available on your machine.\")"
      ],
      "execution_count": 21,
      "outputs": [
        {
          "output_type": "stream",
          "text": [
            "tensor([[0.4517, 0.0537, 1.3113],\n",
            "        [5.0057, 5.1790, 4.1705],\n",
            "        [4.4931, 4.6241, 4.1539],\n",
            "        [0.6612, 0.2630, 0.0760],\n",
            "        [0.5357, 0.4587, 0.5557]], device='cuda:0')\n",
            "tensor([[1.2305, 0.2635, 1.3761],\n",
            "        [2.5028, 2.5895, 2.0852],\n",
            "        [2.2465, 2.3120, 2.0770],\n",
            "        [0.9044, 0.5715, 0.6899],\n",
            "        [0.7530, 0.6929, 1.3752]], device='cuda:0')\n",
            "tensor([[1.6822, 0.3173, 2.6875],\n",
            "        [7.5085, 7.7685, 6.2557],\n",
            "        [6.7396, 6.9361, 6.2309],\n",
            "        [1.5656, 0.8345, 0.7659],\n",
            "        [1.2887, 1.1516, 1.9309]], device='cuda:0')\n"
          ],
          "name": "stdout"
        }
      ]
    },
    {
      "cell_type": "code",
      "metadata": {
        "id": "Uv8ZyxLmqP9T",
        "colab_type": "code",
        "colab": {}
      },
      "source": [
        ""
      ],
      "execution_count": null,
      "outputs": []
    }
  ]
}